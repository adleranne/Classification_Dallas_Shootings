{
 "cells": [
  {
   "cell_type": "code",
   "execution_count": 2,
   "id": "f13b4c00",
   "metadata": {},
   "outputs": [],
   "source": [
    "import numpy as np\n",
    "import pandas as pd"
   ]
  },
  {
   "cell_type": "code",
   "execution_count": 6,
   "id": "4745123b",
   "metadata": {},
   "outputs": [],
   "source": [
    "# Importing the csv file\n",
    "data = pd.read_csv('C:/Users/Anne_2/Documents/Ironhack/Classification_Dallas_Shootings/data/Dallas_Shootings_Extract.csv')"
   ]
  },
  {
   "cell_type": "code",
   "execution_count": 7,
   "id": "3fa04091",
   "metadata": {},
   "outputs": [
    {
     "name": "stdout",
     "output_type": "stream",
     "text": [
      "<class 'pandas.core.frame.DataFrame'>\n",
      "RangeIndex: 208 entries, 0 to 207\n",
      "Data columns (total 11 columns):\n",
      " #   Column            Non-Null Count  Dtype  \n",
      "---  ------            --------------  -----  \n",
      " 0   case_number       208 non-null    object \n",
      " 1   date              208 non-null    object \n",
      " 2   location          208 non-null    object \n",
      " 3   subject_statuses  208 non-null    object \n",
      " 4   subject_weapon    208 non-null    object \n",
      " 5   subject_count     208 non-null    int64  \n",
      " 6   subject_race      208 non-null    object \n",
      " 7   subject_gender    208 non-null    object \n",
      " 8   officer_count     208 non-null    int64  \n",
      " 9   latitude          203 non-null    float64\n",
      " 10  longitude         203 non-null    float64\n",
      "dtypes: float64(2), int64(2), object(7)\n",
      "memory usage: 18.0+ KB\n"
     ]
    }
   ],
   "source": [
    "data.info()"
   ]
  }
 ],
 "metadata": {
  "kernelspec": {
   "display_name": "Python 3",
   "language": "python",
   "name": "python3"
  },
  "language_info": {
   "codemirror_mode": {
    "name": "ipython",
    "version": 3
   },
   "file_extension": ".py",
   "mimetype": "text/x-python",
   "name": "python",
   "nbconvert_exporter": "python",
   "pygments_lexer": "ipython3",
   "version": "3.8.8"
  }
 },
 "nbformat": 4,
 "nbformat_minor": 5
}
