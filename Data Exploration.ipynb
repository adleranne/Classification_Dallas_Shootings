{
 "cells": [
  {
   "cell_type": "code",
   "execution_count": 4,
   "id": "f13b4c00",
   "metadata": {},
   "outputs": [],
   "source": [
    "import numpy as np\n",
    "import pandas as pd\n",
    "import matplotlib.pyplot as plt"
   ]
  },
  {
   "cell_type": "code",
   "execution_count": 5,
   "id": "4745123b",
   "metadata": {},
   "outputs": [],
   "source": [
    "# Importing the csv file\n",
    "data = pd.read_csv('C:/Users/Anne_2/Documents/Ironhack/Classification_Dallas_Shootings/data/Dallas_Shootings_Extract.csv')"
   ]
  },
  {
   "cell_type": "code",
   "execution_count": 6,
   "id": "3fa04091",
   "metadata": {},
   "outputs": [
    {
     "name": "stdout",
     "output_type": "stream",
     "text": [
      "<class 'pandas.core.frame.DataFrame'>\n",
      "RangeIndex: 208 entries, 0 to 207\n",
      "Data columns (total 11 columns):\n",
      " #   Column            Non-Null Count  Dtype  \n",
      "---  ------            --------------  -----  \n",
      " 0   case_number       208 non-null    object \n",
      " 1   date              208 non-null    object \n",
      " 2   location          208 non-null    object \n",
      " 3   subject_statuses  208 non-null    object \n",
      " 4   subject_weapon    208 non-null    object \n",
      " 5   subject_count     208 non-null    int64  \n",
      " 6   subject_race      208 non-null    object \n",
      " 7   subject_gender    208 non-null    object \n",
      " 8   officer_count     208 non-null    int64  \n",
      " 9   latitude          203 non-null    float64\n",
      " 10  longitude         203 non-null    float64\n",
      "dtypes: float64(2), int64(2), object(7)\n",
      "memory usage: 18.0+ KB\n"
     ]
    }
   ],
   "source": [
    "data.info()"
   ]
  },
  {
   "cell_type": "code",
   "execution_count": 7,
   "id": "b74b42bc",
   "metadata": {},
   "outputs": [
    {
     "data": {
      "text/plain": [
       "0   2013-02-23\n",
       "1   2010-05-03\n",
       "2   2006-04-03\n",
       "3   2005-05-09\n",
       "4   2003-07-24\n",
       "Name: date, dtype: datetime64[ns]"
      ]
     },
     "execution_count": 7,
     "metadata": {},
     "output_type": "execute_result"
    }
   ],
   "source": [
    "# transforming date into datetime format, keeping only month and year\n",
    "data['date'] = pd.to_datetime(data['date'])\n",
    "data.date.head()"
   ]
  },
  {
   "cell_type": "code",
   "execution_count": 8,
   "id": "b47f5cf8",
   "metadata": {},
   "outputs": [
    {
     "data": {
      "image/png": "[encoded data removed]",
      "text/plain": [
       "<Figure size 720x360 with 1 Axes>"
      ]
     },
     "metadata": {
      "needs_background": "light"
     },
     "output_type": "display_data"
    }
   ],
   "source": [
    "# making a new column as possible feature - month\n",
    "data['month'] = pd.to_datetime(data['date']).dt.month\n",
    "plt.figure(figsize=(10,5))\n",
    "data.month.groupby([data['month']]).count().plot(kind = 'bar')\n",
    "plt.show()"
   ]
  },
  {
   "cell_type": "code",
   "execution_count": 9,
   "id": "0ac2cd1d",
   "metadata": {},
   "outputs": [],
   "source": [
    "# reducing month further to season\n",
    "data['season'] = ''\n",
    "data['season'] = np.where(data['month'].between(3,5), 'spring', data['season'])\n",
    "data['season'] = np.where(data['month'].between(6,8), 'summer', data['season'])\n",
    "data['season'] = np.where(data['month'].between(9,11), 'autumn', data['season'])\n",
    "data['season'] = np.where(data['month'].between(1,2), 'winter', data['season'])\n",
    "data['season'] = np.where(data['month'] == 12, 'winter', data['season'])"
   ]
  },
  {
   "cell_type": "code",
   "execution_count": 10,
   "id": "d65a05d7",
   "metadata": {},
   "outputs": [
    {
     "data": {
      "text/html": [
       "<div>\n",
       "<style scoped>\n",
       "    .dataframe tbody tr th:only-of-type {\n",
       "        vertical-align: middle;\n",
       "    }\n",
       "\n",
       "    .dataframe tbody tr th {\n",
       "        vertical-align: top;\n",
       "    }\n",
       "\n",
       "    .dataframe thead th {\n",
       "        text-align: right;\n",
       "    }\n",
       "</style>\n",
       "<table border=\"1\" class=\"dataframe\">\n",
       "  <thead>\n",
       "    <tr style=\"text-align: right;\">\n",
       "      <th>season</th>\n",
       "      <th>autumn</th>\n",
       "      <th>spring</th>\n",
       "      <th>summer</th>\n",
       "      <th>winter</th>\n",
       "    </tr>\n",
       "    <tr>\n",
       "      <th>month</th>\n",
       "      <th></th>\n",
       "      <th></th>\n",
       "      <th></th>\n",
       "      <th></th>\n",
       "    </tr>\n",
       "  </thead>\n",
       "  <tbody>\n",
       "    <tr>\n",
       "      <th>1</th>\n",
       "      <td>0</td>\n",
       "      <td>0</td>\n",
       "      <td>0</td>\n",
       "      <td>10</td>\n",
       "    </tr>\n",
       "    <tr>\n",
       "      <th>2</th>\n",
       "      <td>0</td>\n",
       "      <td>0</td>\n",
       "      <td>0</td>\n",
       "      <td>17</td>\n",
       "    </tr>\n",
       "    <tr>\n",
       "      <th>3</th>\n",
       "      <td>0</td>\n",
       "      <td>20</td>\n",
       "      <td>0</td>\n",
       "      <td>0</td>\n",
       "    </tr>\n",
       "    <tr>\n",
       "      <th>4</th>\n",
       "      <td>0</td>\n",
       "      <td>10</td>\n",
       "      <td>0</td>\n",
       "      <td>0</td>\n",
       "    </tr>\n",
       "    <tr>\n",
       "      <th>5</th>\n",
       "      <td>0</td>\n",
       "      <td>22</td>\n",
       "      <td>0</td>\n",
       "      <td>0</td>\n",
       "    </tr>\n",
       "    <tr>\n",
       "      <th>6</th>\n",
       "      <td>0</td>\n",
       "      <td>0</td>\n",
       "      <td>23</td>\n",
       "      <td>0</td>\n",
       "    </tr>\n",
       "    <tr>\n",
       "      <th>7</th>\n",
       "      <td>0</td>\n",
       "      <td>0</td>\n",
       "      <td>18</td>\n",
       "      <td>0</td>\n",
       "    </tr>\n",
       "    <tr>\n",
       "      <th>8</th>\n",
       "      <td>0</td>\n",
       "      <td>0</td>\n",
       "      <td>17</td>\n",
       "      <td>0</td>\n",
       "    </tr>\n",
       "    <tr>\n",
       "      <th>9</th>\n",
       "      <td>16</td>\n",
       "      <td>0</td>\n",
       "      <td>0</td>\n",
       "      <td>0</td>\n",
       "    </tr>\n",
       "    <tr>\n",
       "      <th>10</th>\n",
       "      <td>16</td>\n",
       "      <td>0</td>\n",
       "      <td>0</td>\n",
       "      <td>0</td>\n",
       "    </tr>\n",
       "    <tr>\n",
       "      <th>11</th>\n",
       "      <td>18</td>\n",
       "      <td>0</td>\n",
       "      <td>0</td>\n",
       "      <td>0</td>\n",
       "    </tr>\n",
       "    <tr>\n",
       "      <th>12</th>\n",
       "      <td>0</td>\n",
       "      <td>0</td>\n",
       "      <td>0</td>\n",
       "      <td>21</td>\n",
       "    </tr>\n",
       "  </tbody>\n",
       "</table>\n",
       "</div>"
      ],
      "text/plain": [
       "season  autumn  spring  summer  winter\n",
       "month                                 \n",
       "1            0       0       0      10\n",
       "2            0       0       0      17\n",
       "3            0      20       0       0\n",
       "4            0      10       0       0\n",
       "5            0      22       0       0\n",
       "6            0       0      23       0\n",
       "7            0       0      18       0\n",
       "8            0       0      17       0\n",
       "9           16       0       0       0\n",
       "10          16       0       0       0\n",
       "11          18       0       0       0\n",
       "12           0       0       0      21"
      ]
     },
     "execution_count": 10,
     "metadata": {},
     "output_type": "execute_result"
    }
   ],
   "source": [
    "# checking recoding\n",
    "pd.crosstab(data.month, data.season)"
   ]
  },
  {
   "cell_type": "code",
   "execution_count": 20,
   "id": "8742a926",
   "metadata": {},
   "outputs": [
    {
     "data": {
      "image/png": "[encoded data removed]",
      "text/plain": [
       "<Figure size 720x360 with 1 Axes>"
      ]
     },
     "metadata": {
      "needs_background": "light"
     },
     "output_type": "display_data"
    }
   ],
   "source": [
    "# plotting incidents by season\n",
    "plt.figure(figsize=(10,5))\n",
    "data.season.groupby(data['season']).count().plot(kind=\"bar\")\n",
    "plt.show()"
   ]
  },
  {
   "cell_type": "code",
   "execution_count": 41,
   "id": "212e32f0",
   "metadata": {},
   "outputs": [
    {
     "data": {
      "image/png": "[encoded data removed]",
      "text/plain": [
       "<Figure size 720x360 with 1 Axes>"
      ]
     },
     "metadata": {
      "needs_background": "light"
     },
     "output_type": "display_data"
    }
   ],
   "source": [
    "# plotting incidents over time\n",
    "plt.figure(figsize=(10,5))\n",
    "data.date.groupby([data[\"date\"].dt.year]).count().plot(kind=\"bar\")\n",
    "plt.show()"
   ]
  },
  {
   "cell_type": "code",
   "execution_count": 24,
   "id": "7ec3c3ee",
   "metadata": {},
   "outputs": [
    {
     "data": {
      "text/plain": [
       "Shoot and Miss    80\n",
       "Deceased          67\n",
       "Injured           60\n",
       "2 Injured          1\n",
       "Name: subject_statuses, dtype: int64"
      ]
     },
     "execution_count": 24,
     "metadata": {},
     "output_type": "execute_result"
    }
   ],
   "source": [
    "# subject_statuses\n",
    "data.subject_statuses.value_counts()"
   ]
  },
  {
   "cell_type": "code",
   "execution_count": 25,
   "id": "576ba85d",
   "metadata": {},
   "outputs": [
    {
     "data": {
      "text/plain": [
       "Shoot and Miss    80\n",
       "Deceased          67\n",
       "Injured           61\n",
       "Name: subject_statuses, dtype: int64"
      ]
     },
     "execution_count": 25,
     "metadata": {},
     "output_type": "execute_result"
    }
   ],
   "source": [
    "# recode '2 Injured' to 'Injured'\n",
    "data.subject_statuses = np.where(data.subject_statuses == '2 Injured', 'Injured', data.subject_statuses)\n",
    "data.subject_statuses.value_counts()"
   ]
  },
  {
   "cell_type": "code",
   "execution_count": 26,
   "id": "0d73788e",
   "metadata": {},
   "outputs": [
    {
     "data": {
      "text/plain": [
       "Handgun              96\n",
       "Vehicle              31\n",
       "Unarmed              30\n",
       "Hands                10\n",
       "Knife                10\n",
       "Shotgun               8\n",
       "Assault Rifle         4\n",
       "Rifle                 4\n",
       "Taser                 2\n",
       "Pellet Gun            2\n",
       "Simulated Handgun     1\n",
       "BB Rifle              1\n",
       "OC Spray              1\n",
       "Toy Rifle             1\n",
       "BB Gun                1\n",
       "Toy Handgun           1\n",
       "Box Cutter            1\n",
       "Toy Handun            1\n",
       "Screwdriver           1\n",
       "Rock                  1\n",
       "Paint Ball Rifle      1\n",
       "Name: subject_weapon, dtype: int64"
      ]
     },
     "execution_count": 26,
     "metadata": {},
     "output_type": "execute_result"
    }
   ],
   "source": [
    "# subject weapon\n",
    "data.subject_weapon.value_counts()"
   ]
  },
  {
   "cell_type": "code",
   "execution_count": 27,
   "id": "44ec0691",
   "metadata": {},
   "outputs": [],
   "source": [
    "# 1. Hands are going to be considered as 'unarmed'\n",
    "# 2. Shotguns and rifles are going to be one category\n",
    "# 3. Toy, simulated gun and air guns (bb, pellet and paint ball rifle) going to be one category\n",
    "# 4. One category 'other'\n",
    "\n",
    "data.subject_weapon = np.where(data.subject_weapon == 'Hands', 'Unarmed', data.subject_weapon)\n",
    "data.subject_weapon = np.where(data.subject_weapon == 'Shotgun', 'Shotgun/Rifle', data.subject_weapon)\n",
    "data.subject_weapon = np.where(data.subject_weapon == 'Assault Rifle', 'Shotgun/Rifle', data.subject_weapon)\n",
    "data.subject_weapon = np.where(data.subject_weapon == 'Rifle', 'Shotgun/Rifle', data.subject_weapon)\n",
    "data.subject_weapon = np.where(data.subject_weapon == 'Pellet Gun', 'Toy/Air gun', data.subject_weapon)\n",
    "data.subject_weapon = np.where(data.subject_weapon == 'Paint Ball Rifle', 'Toy/Air gun', data.subject_weapon)\n",
    "data.subject_weapon = np.where(data.subject_weapon == 'Toy Handgun', 'Toy/Air gun', data.subject_weapon)\n",
    "data.subject_weapon = np.where(data.subject_weapon == 'BB Gun', 'Toy/Air gun', data.subject_weapon)\n",
    "data.subject_weapon = np.where(data.subject_weapon == 'Simulated Handgun', 'Toy/Air gun', data.subject_weapon)\n",
    "data.subject_weapon = np.where(data.subject_weapon == 'Toy Handun', 'Toy/Air gun', data.subject_weapon)\n",
    "data.subject_weapon = np.where(data.subject_weapon == 'BB Rifle', 'Toy/Air gun', data.subject_weapon)\n",
    "data.subject_weapon = np.where(data.subject_weapon == 'Toy Rifle', 'Toy/Air gun', data.subject_weapon)\n",
    "data.subject_weapon = np.where(data.subject_weapon == 'Taser', 'other', data.subject_weapon)\n",
    "data.subject_weapon = np.where(data.subject_weapon == 'Box Cutter', 'other', data.subject_weapon)\n",
    "data.subject_weapon = np.where(data.subject_weapon == 'Screwdriver', 'other', data.subject_weapon)\n",
    "data.subject_weapon = np.where(data.subject_weapon == 'Rock', 'other', data.subject_weapon)\n",
    "data.subject_weapon = np.where(data.subject_weapon == 'OC Spray', 'other', data.subject_weapon)"
   ]
  },
  {
   "cell_type": "code",
   "execution_count": 28,
   "id": "9a13159d",
   "metadata": {},
   "outputs": [
    {
     "data": {
      "text/plain": [
       "Handgun          96\n",
       "Unarmed          40\n",
       "Vehicle          31\n",
       "Shotgun/Rifle    16\n",
       "Knife            10\n",
       "Toy/Air gun       9\n",
       "other             6\n",
       "Name: subject_weapon, dtype: int64"
      ]
     },
     "execution_count": 28,
     "metadata": {},
     "output_type": "execute_result"
    }
   ],
   "source": [
    "# checking new categories\n",
    "data.subject_weapon.value_counts()"
   ]
  },
  {
   "cell_type": "code",
   "execution_count": 29,
   "id": "b424ed0d",
   "metadata": {},
   "outputs": [
    {
     "data": {
      "text/plain": [
       "1    208\n",
       "Name: subject_count, dtype: int64"
      ]
     },
     "execution_count": 29,
     "metadata": {},
     "output_type": "execute_result"
    }
   ],
   "source": [
    "# subject count should be 1\n",
    "data.subject_count.value_counts()"
   ]
  },
  {
   "cell_type": "code",
   "execution_count": 30,
   "id": "241c05eb",
   "metadata": {},
   "outputs": [
    {
     "data": {
      "text/plain": [
       "B    104\n",
       "L     64\n",
       "W     38\n",
       "A      2\n",
       "Name: subject_race, dtype: int64"
      ]
     },
     "execution_count": 30,
     "metadata": {},
     "output_type": "execute_result"
    }
   ],
   "source": [
    "# subject race\n",
    "data.subject_race.value_counts()"
   ]
  },
  {
   "cell_type": "code",
   "execution_count": 31,
   "id": "ed24db95",
   "metadata": {},
   "outputs": [],
   "source": [
    "# Race: B - Black, L = Latin, W = White, A - Asian\n",
    "data.subject_race = np.where(data['subject_race'] == 'B', 'Black', data.subject_race)\n",
    "data.subject_race = np.where(data['subject_race'] == 'L', 'Latin', data.subject_race)\n",
    "data.subject_race = np.where(data['subject_race'] == 'W', 'White', data.subject_race)\n",
    "data.subject_race = np.where(data['subject_race'] == 'A', 'Asian', data.subject_race)"
   ]
  },
  {
   "cell_type": "code",
   "execution_count": 32,
   "id": "175c03f8",
   "metadata": {},
   "outputs": [
    {
     "data": {
      "image/png": "[encoded data removed]",
      "text/plain": [
       "<Figure size 360x360 with 1 Axes>"
      ]
     },
     "metadata": {},
     "output_type": "display_data"
    }
   ],
   "source": [
    "# plot subject race\n",
    "plt.figure(figsize=(5,5))\n",
    "data.subject_race.groupby(data['subject_race']).count().plot(kind = 'pie')\n",
    "plt.show()"
   ]
  },
  {
   "cell_type": "code",
   "execution_count": 33,
   "id": "c7f257c4",
   "metadata": {},
   "outputs": [
    {
     "data": {
      "text/plain": [
       "M    203\n",
       "F      5\n",
       "Name: subject_gender, dtype: int64"
      ]
     },
     "execution_count": 33,
     "metadata": {},
     "output_type": "execute_result"
    }
   ],
   "source": [
    "# subject gender\n",
    "data.subject_gender.value_counts()"
   ]
  },
  {
   "cell_type": "code",
   "execution_count": 34,
   "id": "7edeff08",
   "metadata": {},
   "outputs": [
    {
     "data": {
      "text/html": [
       "<div>\n",
       "<style scoped>\n",
       "    .dataframe tbody tr th:only-of-type {\n",
       "        vertical-align: middle;\n",
       "    }\n",
       "\n",
       "    .dataframe tbody tr th {\n",
       "        vertical-align: top;\n",
       "    }\n",
       "\n",
       "    .dataframe thead th {\n",
       "        text-align: right;\n",
       "    }\n",
       "</style>\n",
       "<table border=\"1\" class=\"dataframe\">\n",
       "  <thead>\n",
       "    <tr style=\"text-align: right;\">\n",
       "      <th>subject_weapon</th>\n",
       "      <th>Handgun</th>\n",
       "      <th>Knife</th>\n",
       "      <th>Shotgun/Rifle</th>\n",
       "      <th>Toy/Air gun</th>\n",
       "      <th>Unarmed</th>\n",
       "      <th>Vehicle</th>\n",
       "      <th>other</th>\n",
       "    </tr>\n",
       "    <tr>\n",
       "      <th>subject_gender</th>\n",
       "      <th></th>\n",
       "      <th></th>\n",
       "      <th></th>\n",
       "      <th></th>\n",
       "      <th></th>\n",
       "      <th></th>\n",
       "      <th></th>\n",
       "    </tr>\n",
       "  </thead>\n",
       "  <tbody>\n",
       "    <tr>\n",
       "      <th>F</th>\n",
       "      <td>1</td>\n",
       "      <td>1</td>\n",
       "      <td>0</td>\n",
       "      <td>1</td>\n",
       "      <td>0</td>\n",
       "      <td>1</td>\n",
       "      <td>1</td>\n",
       "    </tr>\n",
       "    <tr>\n",
       "      <th>M</th>\n",
       "      <td>95</td>\n",
       "      <td>9</td>\n",
       "      <td>16</td>\n",
       "      <td>8</td>\n",
       "      <td>40</td>\n",
       "      <td>30</td>\n",
       "      <td>5</td>\n",
       "    </tr>\n",
       "  </tbody>\n",
       "</table>\n",
       "</div>"
      ],
      "text/plain": [
       "subject_weapon  Handgun  Knife  Shotgun/Rifle  Toy/Air gun  Unarmed  Vehicle  \\\n",
       "subject_gender                                                                 \n",
       "F                     1      1              0            1        0        1   \n",
       "M                    95      9             16            8       40       30   \n",
       "\n",
       "subject_weapon  other  \n",
       "subject_gender         \n",
       "F                   1  \n",
       "M                   5  "
      ]
     },
     "execution_count": 34,
     "metadata": {},
     "output_type": "execute_result"
    }
   ],
   "source": [
    "# What kind of weapons did female subjects used?\n",
    "pd.crosstab(data.subject_gender, data.subject_weapon)"
   ]
  },
  {
   "cell_type": "code",
   "execution_count": 35,
   "id": "52742e2d",
   "metadata": {},
   "outputs": [
    {
     "data": {
      "text/html": [
       "<div>\n",
       "<style scoped>\n",
       "    .dataframe tbody tr th:only-of-type {\n",
       "        vertical-align: middle;\n",
       "    }\n",
       "\n",
       "    .dataframe tbody tr th {\n",
       "        vertical-align: top;\n",
       "    }\n",
       "\n",
       "    .dataframe thead th {\n",
       "        text-align: right;\n",
       "    }\n",
       "</style>\n",
       "<table border=\"1\" class=\"dataframe\">\n",
       "  <thead>\n",
       "    <tr style=\"text-align: right;\">\n",
       "      <th>subject_statuses</th>\n",
       "      <th>Deceased</th>\n",
       "      <th>Injured</th>\n",
       "      <th>Shoot and Miss</th>\n",
       "    </tr>\n",
       "    <tr>\n",
       "      <th>subject_gender</th>\n",
       "      <th></th>\n",
       "      <th></th>\n",
       "      <th></th>\n",
       "    </tr>\n",
       "  </thead>\n",
       "  <tbody>\n",
       "    <tr>\n",
       "      <th>F</th>\n",
       "      <td>2</td>\n",
       "      <td>1</td>\n",
       "      <td>2</td>\n",
       "    </tr>\n",
       "    <tr>\n",
       "      <th>M</th>\n",
       "      <td>65</td>\n",
       "      <td>60</td>\n",
       "      <td>78</td>\n",
       "    </tr>\n",
       "  </tbody>\n",
       "</table>\n",
       "</div>"
      ],
      "text/plain": [
       "subject_statuses  Deceased  Injured  Shoot and Miss\n",
       "subject_gender                                     \n",
       "F                        2        1               2\n",
       "M                       65       60              78"
      ]
     },
     "execution_count": 35,
     "metadata": {},
     "output_type": "execute_result"
    }
   ],
   "source": [
    "# Did also female subjects deceased?\n",
    "pd.crosstab(data.subject_gender, data.subject_statuses)"
   ]
  },
  {
   "cell_type": "code",
   "execution_count": 36,
   "id": "00f6a4ec",
   "metadata": {},
   "outputs": [],
   "source": [
    "# female subjects were also armed and deceased/injured/shoot and Miss, doesn't seem to differ too much from male subjects.\n",
    "# since only very vew female subjects, gender will not be considered as feature"
   ]
  },
  {
   "cell_type": "code",
   "execution_count": 37,
   "id": "9e192723",
   "metadata": {},
   "outputs": [
    {
     "data": {
      "text/plain": [
       "1     143\n",
       "2      41\n",
       "3       9\n",
       "5       6\n",
       "4       4\n",
       "8       1\n",
       "9       1\n",
       "12      1\n",
       "13      1\n",
       "15      1\n",
       "Name: officer_count, dtype: int64"
      ]
     },
     "execution_count": 37,
     "metadata": {},
     "output_type": "execute_result"
    }
   ],
   "source": [
    "# officer count\n",
    "data.officer_count.value_counts()"
   ]
  },
  {
   "cell_type": "code",
   "execution_count": 38,
   "id": "68ab73ca",
   "metadata": {},
   "outputs": [
    {
     "data": {
      "text/plain": [
       "alone          143\n",
       "2 to 3          50\n",
       "more than 3     15\n",
       "Name: officer_count_cat, dtype: int64"
      ]
     },
     "execution_count": 38,
     "metadata": {},
     "output_type": "execute_result"
    }
   ],
   "source": [
    "# getting three categories: 1 officer, 2-3 officers, more than 3 officers\n",
    "cut_bins = [0, 1, 3, 15]\n",
    "labels = ['alone', '2 to 3', 'more than 3']\n",
    "data['officer_count_cat'] = pd.cut(data['officer_count'], bins = cut_bins, labels = labels)\n",
    "data.officer_count_cat.value_counts()"
   ]
  },
  {
   "cell_type": "code",
   "execution_count": 39,
   "id": "52259024",
   "metadata": {},
   "outputs": [
    {
     "data": {
      "text/plain": [
       "3100 W. Davis Street             1\n",
       "18220 Dallas Parkway             1\n",
       "10316 Sandra Lynn Drive          1\n",
       "10008 Mesita Drive               1\n",
       "4800 Veterans Drive              1\n",
       "                                ..\n",
       "10200 Walton Walker Boulevard    1\n",
       "5400 E. R.L. Thornton Freeway    1\n",
       "4515 Village Fair Place          1\n",
       "4526 Humphrey Avenue             1\n",
       "733 Cliffview Drive              1\n",
       "Name: location, Length: 208, dtype: int64"
      ]
     },
     "execution_count": 39,
     "metadata": {},
     "output_type": "execute_result"
    }
   ],
   "source": [
    "# checking locations\n",
    "data.location.value_counts()"
   ]
  },
  {
   "cell_type": "code",
   "execution_count": 40,
   "id": "5c72c132",
   "metadata": {},
   "outputs": [
    {
     "name": "stderr",
     "output_type": "stream",
     "text": [
      "<ipython-input-40-f510b805e11c>:3: FutureWarning: The default value of regex will change from True to False in a future version.\n",
      "  data['street'] = data['location'].str.replace(r'\\d+\\b', '')\n"
     ]
    }
   ],
   "source": [
    "# deleting housenumber from street\n",
    "import re\n",
    "data['street'] = data['location'].str.replace(r'\\d+\\b', '') "
   ]
  },
  {
   "cell_type": "code",
   "execution_count": 41,
   "id": "1f54b05c",
   "metadata": {},
   "outputs": [
    {
     "data": {
      "text/plain": [
       " Audelia Road            4\n",
       " L.B.J. Freeway          3\n",
       " W. Northwest Highway    3\n",
       " Skillman Street         3\n",
       " C. F. Hawn Freeway      2\n",
       "                        ..\n",
       " Frank Street            1\n",
       " Dilido Street           1\n",
       " Custer Drive            1\n",
       " Indiana Street          1\n",
       " Commerce Street         1\n",
       "Name: street, Length: 184, dtype: int64"
      ]
     },
     "execution_count": 41,
     "metadata": {},
     "output_type": "execute_result"
    }
   ],
   "source": [
    "data['street'].value_counts()"
   ]
  },
  {
   "cell_type": "markdown",
   "id": "084e152f",
   "metadata": {},
   "source": [
    "#### still to detailed, area/neighbourhood would be more useful, but it would need manually work on all adresses to extract the area"
   ]
  },
  {
   "cell_type": "code",
   "execution_count": 42,
   "id": "cbc7e237",
   "metadata": {},
   "outputs": [],
   "source": [
    "# save datafile as cleaned, keeping only relevant columns (plus location columns for future visualizations in tableau)\n",
    "data_cleaned = data.drop(['case_number', 'subject_count', 'officer_count'], axis =1)\n",
    "data_cleaned.to_csv('C:/Users/Anne_2/Documents/Ironhack/Classification_Dallas_Shootings/data/Dallas_cleaned.csv', index=False)"
   ]
  }
 ],
 "metadata": {
  "kernelspec": {
   "display_name": "Python 3",
   "language": "python",
   "name": "python3"
  },
  "language_info": {
   "codemirror_mode": {
    "name": "ipython",
    "version": 3
   },
   "file_extension": ".py",
   "mimetype": "text/x-python",
   "name": "python",
   "nbconvert_exporter": "python",
   "pygments_lexer": "ipython3",
   "version": "3.8.8"
  }
 },
 "nbformat": 4,
 "nbformat_minor": 5
}
