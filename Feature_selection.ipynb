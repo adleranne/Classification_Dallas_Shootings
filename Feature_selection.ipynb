{
 "cells": [
  {
   "cell_type": "code",
   "execution_count": 31,
   "id": "a6b49260",
   "metadata": {},
   "outputs": [],
   "source": [
    "import numpy as np\n",
    "import pandas as pd\n",
    "import matplotlib.pyplot as plt\n",
    "import seaborn as sns\n",
    "\n",
    "import statsmodels.api as sm\n",
    "from statsmodels.formula.api import ols\n",
    "\n",
    "from sklearn.model_selection import train_test_split\n",
    "from sklearn.preprocessing import StandardScaler\n",
    "from sklearn.preprocessing import OneHotEncoder\n",
    "from sklearn.preprocessing import OrdinalEncoder\n",
    "from sklearn.linear_model import LogisticRegression\n",
    "from sklearn.neighbors import KNeighborsClassifier\n",
    "from sklearn.linear_model import LogisticRegression"
   ]
  },
  {
   "cell_type": "code",
   "execution_count": 229,
   "id": "42302841",
   "metadata": {},
   "outputs": [],
   "source": [
    "# importing cleaned data file\n",
    "data = pd.read_csv('C:/Users/Anne_2/Documents/Ironhack/Classification_Dallas_Shootings/data/Dallas_cleaned.csv')"
   ]
  },
  {
   "cell_type": "code",
   "execution_count": 230,
   "id": "8f19810d",
   "metadata": {},
   "outputs": [
    {
     "data": {
      "text/html": [
       "<div>\n",
       "<style scoped>\n",
       "    .dataframe tbody tr th:only-of-type {\n",
       "        vertical-align: middle;\n",
       "    }\n",
       "\n",
       "    .dataframe tbody tr th {\n",
       "        vertical-align: top;\n",
       "    }\n",
       "\n",
       "    .dataframe thead th {\n",
       "        text-align: right;\n",
       "    }\n",
       "</style>\n",
       "<table border=\"1\" class=\"dataframe\">\n",
       "  <thead>\n",
       "    <tr style=\"text-align: right;\">\n",
       "      <th></th>\n",
       "      <th>date</th>\n",
       "      <th>location</th>\n",
       "      <th>subject_statuses</th>\n",
       "      <th>subject_weapon</th>\n",
       "      <th>subject_race</th>\n",
       "      <th>subject_gender</th>\n",
       "      <th>latitude</th>\n",
       "      <th>longitude</th>\n",
       "      <th>month</th>\n",
       "      <th>season</th>\n",
       "      <th>officer_count_cat</th>\n",
       "      <th>street</th>\n",
       "    </tr>\n",
       "  </thead>\n",
       "  <tbody>\n",
       "    <tr>\n",
       "      <th>0</th>\n",
       "      <td>2013-02-23</td>\n",
       "      <td>3000 Chihuahua Street</td>\n",
       "      <td>Injured</td>\n",
       "      <td>Handgun</td>\n",
       "      <td>Latin</td>\n",
       "      <td>M</td>\n",
       "      <td>NaN</td>\n",
       "      <td>NaN</td>\n",
       "      <td>2</td>\n",
       "      <td>winter</td>\n",
       "      <td>2 to 3</td>\n",
       "      <td>Chihuahua Street</td>\n",
       "    </tr>\n",
       "    <tr>\n",
       "      <th>1</th>\n",
       "      <td>2010-05-03</td>\n",
       "      <td>1300 N. Munger Boulevard</td>\n",
       "      <td>Injured</td>\n",
       "      <td>Handgun</td>\n",
       "      <td>Latin</td>\n",
       "      <td>M</td>\n",
       "      <td>NaN</td>\n",
       "      <td>NaN</td>\n",
       "      <td>5</td>\n",
       "      <td>spring</td>\n",
       "      <td>alone</td>\n",
       "      <td>N. Munger Boulevard</td>\n",
       "    </tr>\n",
       "    <tr>\n",
       "      <th>2</th>\n",
       "      <td>2006-04-03</td>\n",
       "      <td>6512 South Loop 12</td>\n",
       "      <td>Injured</td>\n",
       "      <td>Unarmed</td>\n",
       "      <td>Black</td>\n",
       "      <td>M</td>\n",
       "      <td>NaN</td>\n",
       "      <td>NaN</td>\n",
       "      <td>4</td>\n",
       "      <td>spring</td>\n",
       "      <td>alone</td>\n",
       "      <td>South Loop</td>\n",
       "    </tr>\n",
       "    <tr>\n",
       "      <th>3</th>\n",
       "      <td>2005-05-09</td>\n",
       "      <td>4900 Eastside Avenue</td>\n",
       "      <td>Shoot and Miss</td>\n",
       "      <td>Vehicle</td>\n",
       "      <td>Latin</td>\n",
       "      <td>M</td>\n",
       "      <td>NaN</td>\n",
       "      <td>NaN</td>\n",
       "      <td>5</td>\n",
       "      <td>spring</td>\n",
       "      <td>2 to 3</td>\n",
       "      <td>Eastside Avenue</td>\n",
       "    </tr>\n",
       "    <tr>\n",
       "      <th>4</th>\n",
       "      <td>2003-07-24</td>\n",
       "      <td>7728 S. Loop 12</td>\n",
       "      <td>Deceased</td>\n",
       "      <td>Handgun</td>\n",
       "      <td>Black</td>\n",
       "      <td>M</td>\n",
       "      <td>NaN</td>\n",
       "      <td>NaN</td>\n",
       "      <td>7</td>\n",
       "      <td>summer</td>\n",
       "      <td>2 to 3</td>\n",
       "      <td>S. Loop</td>\n",
       "    </tr>\n",
       "  </tbody>\n",
       "</table>\n",
       "</div>"
      ],
      "text/plain": [
       "         date                  location subject_statuses subject_weapon  \\\n",
       "0  2013-02-23     3000 Chihuahua Street          Injured        Handgun   \n",
       "1  2010-05-03  1300 N. Munger Boulevard          Injured        Handgun   \n",
       "2  2006-04-03        6512 South Loop 12          Injured        Unarmed   \n",
       "3  2005-05-09      4900 Eastside Avenue   Shoot and Miss        Vehicle   \n",
       "4  2003-07-24           7728 S. Loop 12         Deceased        Handgun   \n",
       "\n",
       "  subject_race subject_gender  latitude  longitude  month  season  \\\n",
       "0        Latin              M       NaN        NaN      2  winter   \n",
       "1        Latin              M       NaN        NaN      5  spring   \n",
       "2        Black              M       NaN        NaN      4  spring   \n",
       "3        Latin              M       NaN        NaN      5  spring   \n",
       "4        Black              M       NaN        NaN      7  summer   \n",
       "\n",
       "  officer_count_cat                street  \n",
       "0            2 to 3      Chihuahua Street  \n",
       "1             alone   N. Munger Boulevard  \n",
       "2             alone           South Loop   \n",
       "3            2 to 3       Eastside Avenue  \n",
       "4            2 to 3              S. Loop   "
      ]
     },
     "execution_count": 230,
     "metadata": {},
     "output_type": "execute_result"
    }
   ],
   "source": [
    "data.head()"
   ]
  },
  {
   "cell_type": "code",
   "execution_count": 231,
   "id": "0d69bed7",
   "metadata": {},
   "outputs": [
    {
     "name": "stdout",
     "output_type": "stream",
     "text": [
      "<class 'pandas.core.frame.DataFrame'>\n",
      "RangeIndex: 208 entries, 0 to 207\n",
      "Data columns (total 12 columns):\n",
      " #   Column             Non-Null Count  Dtype  \n",
      "---  ------             --------------  -----  \n",
      " 0   date               208 non-null    object \n",
      " 1   location           208 non-null    object \n",
      " 2   subject_statuses   208 non-null    object \n",
      " 3   subject_weapon     208 non-null    object \n",
      " 4   subject_race       208 non-null    object \n",
      " 5   subject_gender     208 non-null    object \n",
      " 6   latitude           203 non-null    float64\n",
      " 7   longitude          203 non-null    float64\n",
      " 8   month              208 non-null    int64  \n",
      " 9   season             208 non-null    object \n",
      " 10  officer_count_cat  208 non-null    object \n",
      " 11  street             208 non-null    object \n",
      "dtypes: float64(2), int64(1), object(9)\n",
      "memory usage: 19.6+ KB\n"
     ]
    }
   ],
   "source": [
    "# check data file\n",
    "data.info(0)"
   ]
  },
  {
   "cell_type": "code",
   "execution_count": 232,
   "id": "5cb78b16",
   "metadata": {},
   "outputs": [
    {
     "data": {
      "text/plain": [
       "Index(['date', 'location', 'subject_statuses', 'subject_weapon',\n",
       "       'subject_race', 'subject_gender', 'latitude', 'longitude', 'month',\n",
       "       'season', 'officer_count_cat', 'street'],\n",
       "      dtype='object')"
      ]
     },
     "execution_count": 232,
     "metadata": {},
     "output_type": "execute_result"
    }
   ],
   "source": [
    "data.columns"
   ]
  },
  {
   "cell_type": "code",
   "execution_count": 233,
   "id": "d29f4c23",
   "metadata": {},
   "outputs": [],
   "source": [
    "# Encoding target variable subject_statuses as oridnal by severity (0 - Shoot and Miss, 1 - Injured, 2 - Deceased)\n",
    "codes_outcome = ['Shoot and Miss', 'Injured', 'Deceased']\n",
    "encoder = OrdinalEncoder(categories=[codes_outcome]).fit(data[['subject_statuses']])\n",
    "data['target'] = encoder.transform(data[['subject_statuses']])"
   ]
  },
  {
   "cell_type": "code",
   "execution_count": 234,
   "id": "119142c3",
   "metadata": {},
   "outputs": [
    {
     "data": {
      "text/html": [
       "<div>\n",
       "<style scoped>\n",
       "    .dataframe tbody tr th:only-of-type {\n",
       "        vertical-align: middle;\n",
       "    }\n",
       "\n",
       "    .dataframe tbody tr th {\n",
       "        vertical-align: top;\n",
       "    }\n",
       "\n",
       "    .dataframe thead th {\n",
       "        text-align: right;\n",
       "    }\n",
       "</style>\n",
       "<table border=\"1\" class=\"dataframe\">\n",
       "  <thead>\n",
       "    <tr style=\"text-align: right;\">\n",
       "      <th>target</th>\n",
       "      <th>0.0</th>\n",
       "      <th>1.0</th>\n",
       "      <th>2.0</th>\n",
       "    </tr>\n",
       "    <tr>\n",
       "      <th>subject_statuses</th>\n",
       "      <th></th>\n",
       "      <th></th>\n",
       "      <th></th>\n",
       "    </tr>\n",
       "  </thead>\n",
       "  <tbody>\n",
       "    <tr>\n",
       "      <th>Deceased</th>\n",
       "      <td>0</td>\n",
       "      <td>0</td>\n",
       "      <td>67</td>\n",
       "    </tr>\n",
       "    <tr>\n",
       "      <th>Injured</th>\n",
       "      <td>0</td>\n",
       "      <td>61</td>\n",
       "      <td>0</td>\n",
       "    </tr>\n",
       "    <tr>\n",
       "      <th>Shoot and Miss</th>\n",
       "      <td>80</td>\n",
       "      <td>0</td>\n",
       "      <td>0</td>\n",
       "    </tr>\n",
       "  </tbody>\n",
       "</table>\n",
       "</div>"
      ],
      "text/plain": [
       "target            0.0  1.0  2.0\n",
       "subject_statuses               \n",
       "Deceased            0    0   67\n",
       "Injured             0   61    0\n",
       "Shoot and Miss     80    0    0"
      ]
     },
     "execution_count": 234,
     "metadata": {},
     "output_type": "execute_result"
    }
   ],
   "source": [
    "# check recoding\n",
    "pd.crosstab(data.subject_statuses, data.target)"
   ]
  },
  {
   "cell_type": "markdown",
   "id": "d29cc7de",
   "metadata": {},
   "source": [
    "## Feature selection"
   ]
  },
  {
   "cell_type": "code",
   "execution_count": 235,
   "id": "99a46ad8",
   "metadata": {},
   "outputs": [],
   "source": [
    "#Checking the influence of independent features on target for feature selection"
   ]
  },
  {
   "cell_type": "code",
   "execution_count": 236,
   "id": "345d057c",
   "metadata": {},
   "outputs": [
    {
     "name": "stdout",
     "output_type": "stream",
     "text": [
      "                    sum_sq     df         F    PR(>F)\n",
      "subject_weapon   17.539606    6.0  4.567325  0.000228\n",
      "Residual        128.647894  201.0       NaN       NaN\n"
     ]
    }
   ],
   "source": [
    "# subject weapon\n",
    "mod = ols('target ~ subject_weapon', data=data).fit()\n",
    "anova_table=sm.stats.anova_lm(mod, typ=2)\n",
    "print(anova_table)"
   ]
  },
  {
   "cell_type": "code",
   "execution_count": 237,
   "id": "28b057d3",
   "metadata": {},
   "outputs": [
    {
     "name": "stdout",
     "output_type": "stream",
     "text": [
      "                  sum_sq     df         F    PR(>F)\n",
      "subject_race   13.765688    3.0  7.068826  0.000153\n",
      "Residual      132.421812  204.0       NaN       NaN\n"
     ]
    }
   ],
   "source": [
    "# subject race\n",
    "mod = ols('target ~ subject_race', data=data).fit()\n",
    "anova_table=sm.stats.anova_lm(mod, typ=2)\n",
    "print(anova_table)"
   ]
  },
  {
   "cell_type": "code",
   "execution_count": 238,
   "id": "dd2e316e",
   "metadata": {},
   "outputs": [
    {
     "name": "stdout",
     "output_type": "stream",
     "text": [
      "                    sum_sq     df         F    PR(>F)\n",
      "subject_gender    0.020012    1.0  0.028204  0.866794\n",
      "Residual        146.167488  206.0       NaN       NaN\n"
     ]
    }
   ],
   "source": [
    "# subject gender\n",
    "mod = ols('target ~ subject_gender', data=data).fit()\n",
    "anova_table=sm.stats.anova_lm(mod, typ=2)\n",
    "print(anova_table)"
   ]
  },
  {
   "cell_type": "code",
   "execution_count": 239,
   "id": "31730dad",
   "metadata": {},
   "outputs": [
    {
     "name": "stdout",
     "output_type": "stream",
     "text": [
      "              sum_sq     df         F    PR(>F)\n",
      "month       0.084015    1.0  0.118457  0.731065\n",
      "Residual  146.103485  206.0       NaN       NaN\n"
     ]
    }
   ],
   "source": [
    "# month of year\n",
    "mod = ols('target ~ month', data=data).fit()\n",
    "anova_table=sm.stats.anova_lm(mod, typ=2)\n",
    "print(anova_table)"
   ]
  },
  {
   "cell_type": "code",
   "execution_count": 240,
   "id": "586f6464",
   "metadata": {},
   "outputs": [
    {
     "name": "stdout",
     "output_type": "stream",
     "text": [
      "                       sum_sq     df        F    PR(>F)\n",
      "officer_count_cat   10.790017    2.0  8.16837  0.000386\n",
      "Residual           135.397483  205.0      NaN       NaN\n"
     ]
    }
   ],
   "source": [
    "# number of officers involved\n",
    "mod = ols('target ~ officer_count_cat', data=data).fit()\n",
    "anova_table=sm.stats.anova_lm(mod, typ=2)\n",
    "print(anova_table)"
   ]
  },
  {
   "cell_type": "code",
   "execution_count": 241,
   "id": "8486065c",
   "metadata": {},
   "outputs": [
    {
     "name": "stdout",
     "output_type": "stream",
     "text": [
      "              sum_sq     df         F    PR(>F)\n",
      "season      1.082876    3.0  0.507465  0.677558\n",
      "Residual  145.104624  204.0       NaN       NaN\n"
     ]
    }
   ],
   "source": [
    "# season\n",
    "mod = ols('target ~ season', data=data).fit()\n",
    "anova_table=sm.stats.anova_lm(mod, typ=2)\n",
    "print(anova_table)"
   ]
  },
  {
   "cell_type": "markdown",
   "id": "ce933db1",
   "metadata": {},
   "source": [
    "### --> looks like subject_weapon, subject_race and number of officers involved are relevant "
   ]
  },
  {
   "cell_type": "code",
   "execution_count": 242,
   "id": "271308a5",
   "metadata": {},
   "outputs": [
    {
     "data": {
      "image/png": "[encoded data removed]",
      "text/plain": [
       "<Figure size 412x360 with 1 Axes>"
      ]
     },
     "metadata": {
      "needs_background": "light"
     },
     "output_type": "display_data"
    },
    {
     "data": {
      "image/png": "[encoded data removed]",
      "text/plain": [
       "<Figure size 412x360 with 1 Axes>"
      ]
     },
     "metadata": {
      "needs_background": "light"
     },
     "output_type": "display_data"
    },
    {
     "data": {
      "image/png": "[encoded data removed]",
      "text/plain": [
       "<Figure size 412x360 with 1 Axes>"
      ]
     },
     "metadata": {
      "needs_background": "light"
     },
     "output_type": "display_data"
    },
    {
     "data": {
      "image/png": "[encoded data removed]",
      "text/plain": [
       "<Figure size 412x360 with 1 Axes>"
      ]
     },
     "metadata": {
      "needs_background": "light"
     },
     "output_type": "display_data"
    },
    {
     "data": {
      "image/png": "[encoded data removed]",
      "text/plain": [
       "<Figure size 412x360 with 1 Axes>"
      ]
     },
     "metadata": {
      "needs_background": "light"
     },
     "output_type": "display_data"
    },
    {
     "data": {
      "image/png": "[encoded data removed]",
      "text/plain": [
       "<Figure size 412x360 with 1 Axes>"
      ]
     },
     "metadata": {
      "needs_background": "light"
     },
     "output_type": "display_data"
    }
   ],
   "source": [
    "# also plotting all possible features in relaion to target\n",
    "plotting = data[['subject_weapon', 'subject_race', 'subject_gender', 'month', 'season', 'officer_count_cat']]\n",
    "for i in plotting.columns:\n",
    "    sns.catplot(y=i, hue='target', kind='count', palette='pastel', edgecolor='.6', data=data)"
   ]
  },
  {
   "cell_type": "markdown",
   "id": "71571a85",
   "metadata": {},
   "source": [
    "# Builing first model - logistic regression"
   ]
  },
  {
   "cell_type": "code",
   "execution_count": null,
   "id": "2b9193fe",
   "metadata": {},
   "outputs": [],
   "source": []
  }
 ],
 "metadata": {
  "kernelspec": {
   "display_name": "Python 3",
   "language": "python",
   "name": "python3"
  },
  "language_info": {
   "codemirror_mode": {
    "name": "ipython",
    "version": 3
   },
   "file_extension": ".py",
   "mimetype": "text/x-python",
   "name": "python",
   "nbconvert_exporter": "python",
   "pygments_lexer": "ipython3",
   "version": "3.8.8"
  }
 },
 "nbformat": 4,
 "nbformat_minor": 5
}
