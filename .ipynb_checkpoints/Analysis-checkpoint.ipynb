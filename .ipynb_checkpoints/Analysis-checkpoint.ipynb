{
 "cells": [
  {
   "cell_type": "code",
   "execution_count": 948,
   "id": "a6b49260",
   "metadata": {},
   "outputs": [],
   "source": [
    "import numpy as np\n",
    "import pandas as pd\n",
    "import matplotlib.pyplot as plt\n",
    "import seaborn as sns\n",
    "import math as m\n",
    "\n",
    "import statsmodels.api as sm\n",
    "from statsmodels.formula.api import ols\n",
    "\n",
    "from sklearn.model_selection import train_test_split\n",
    "from sklearn.preprocessing import StandardScaler\n",
    "from sklearn.preprocessing import OneHotEncoder\n",
    "from sklearn.preprocessing import OrdinalEncoder\n",
    "from sklearn.linear_model import LogisticRegression\n",
    "from imblearn.under_sampling import RandomUnderSampler\n",
    "from imblearn.over_sampling import RandomOverSampler\n",
    "from sklearn.metrics import classification_report, plot_confusion_matrix\n",
    "from sklearn.neighbors import KNeighborsClassifier\n",
    "from sklearn.discriminant_analysis import LinearDiscriminantAnalysis\n",
    "\n",
    "from sklearn.model_selection import cross_val_score"
   ]
  },
  {
   "cell_type": "code",
   "execution_count": 963,
   "id": "42302841",
   "metadata": {},
   "outputs": [],
   "source": [
    "# importing cleaned data file\n",
    "data = pd.read_csv('C:/Users/Anne_2/Documents/Ironhack/Classification_Dallas_Shootings/data/Dallas_cleaned.csv')"
   ]
  },
  {
   "cell_type": "code",
   "execution_count": 964,
   "id": "8f19810d",
   "metadata": {},
   "outputs": [
    {
     "data": {
      "text/html": [
       "<div>\n",
       "<style scoped>\n",
       "    .dataframe tbody tr th:only-of-type {\n",
       "        vertical-align: middle;\n",
       "    }\n",
       "\n",
       "    .dataframe tbody tr th {\n",
       "        vertical-align: top;\n",
       "    }\n",
       "\n",
       "    .dataframe thead th {\n",
       "        text-align: right;\n",
       "    }\n",
       "</style>\n",
       "<table border=\"1\" class=\"dataframe\">\n",
       "  <thead>\n",
       "    <tr style=\"text-align: right;\">\n",
       "      <th></th>\n",
       "      <th>date</th>\n",
       "      <th>location</th>\n",
       "      <th>subject_statuses</th>\n",
       "      <th>subject_weapon</th>\n",
       "      <th>subject_race</th>\n",
       "      <th>subject_gender</th>\n",
       "      <th>latitude</th>\n",
       "      <th>longitude</th>\n",
       "      <th>month</th>\n",
       "      <th>season</th>\n",
       "      <th>officer_count_cat</th>\n",
       "      <th>street</th>\n",
       "    </tr>\n",
       "  </thead>\n",
       "  <tbody>\n",
       "    <tr>\n",
       "      <th>0</th>\n",
       "      <td>2013-02-23</td>\n",
       "      <td>3000 Chihuahua Street</td>\n",
       "      <td>Injured</td>\n",
       "      <td>Handgun</td>\n",
       "      <td>Latin</td>\n",
       "      <td>M</td>\n",
       "      <td>NaN</td>\n",
       "      <td>NaN</td>\n",
       "      <td>2</td>\n",
       "      <td>winter</td>\n",
       "      <td>2 to 3</td>\n",
       "      <td>Chihuahua Street</td>\n",
       "    </tr>\n",
       "    <tr>\n",
       "      <th>1</th>\n",
       "      <td>2010-05-03</td>\n",
       "      <td>1300 N. Munger Boulevard</td>\n",
       "      <td>Injured</td>\n",
       "      <td>Handgun</td>\n",
       "      <td>Latin</td>\n",
       "      <td>M</td>\n",
       "      <td>NaN</td>\n",
       "      <td>NaN</td>\n",
       "      <td>5</td>\n",
       "      <td>spring</td>\n",
       "      <td>alone</td>\n",
       "      <td>N. Munger Boulevard</td>\n",
       "    </tr>\n",
       "    <tr>\n",
       "      <th>2</th>\n",
       "      <td>2006-04-03</td>\n",
       "      <td>6512 South Loop 12</td>\n",
       "      <td>Injured</td>\n",
       "      <td>Unarmed</td>\n",
       "      <td>Black</td>\n",
       "      <td>M</td>\n",
       "      <td>NaN</td>\n",
       "      <td>NaN</td>\n",
       "      <td>4</td>\n",
       "      <td>spring</td>\n",
       "      <td>alone</td>\n",
       "      <td>South Loop</td>\n",
       "    </tr>\n",
       "    <tr>\n",
       "      <th>3</th>\n",
       "      <td>2005-05-09</td>\n",
       "      <td>4900 Eastside Avenue</td>\n",
       "      <td>Shoot and Miss</td>\n",
       "      <td>Vehicle</td>\n",
       "      <td>Latin</td>\n",
       "      <td>M</td>\n",
       "      <td>NaN</td>\n",
       "      <td>NaN</td>\n",
       "      <td>5</td>\n",
       "      <td>spring</td>\n",
       "      <td>2 to 3</td>\n",
       "      <td>Eastside Avenue</td>\n",
       "    </tr>\n",
       "    <tr>\n",
       "      <th>4</th>\n",
       "      <td>2003-07-24</td>\n",
       "      <td>7728 S. Loop 12</td>\n",
       "      <td>Deceased</td>\n",
       "      <td>Handgun</td>\n",
       "      <td>Black</td>\n",
       "      <td>M</td>\n",
       "      <td>NaN</td>\n",
       "      <td>NaN</td>\n",
       "      <td>7</td>\n",
       "      <td>summer</td>\n",
       "      <td>2 to 3</td>\n",
       "      <td>S. Loop</td>\n",
       "    </tr>\n",
       "  </tbody>\n",
       "</table>\n",
       "</div>"
      ],
      "text/plain": [
       "         date                  location subject_statuses subject_weapon  \\\n",
       "0  2013-02-23     3000 Chihuahua Street          Injured        Handgun   \n",
       "1  2010-05-03  1300 N. Munger Boulevard          Injured        Handgun   \n",
       "2  2006-04-03        6512 South Loop 12          Injured        Unarmed   \n",
       "3  2005-05-09      4900 Eastside Avenue   Shoot and Miss        Vehicle   \n",
       "4  2003-07-24           7728 S. Loop 12         Deceased        Handgun   \n",
       "\n",
       "  subject_race subject_gender  latitude  longitude  month  season  \\\n",
       "0        Latin              M       NaN        NaN      2  winter   \n",
       "1        Latin              M       NaN        NaN      5  spring   \n",
       "2        Black              M       NaN        NaN      4  spring   \n",
       "3        Latin              M       NaN        NaN      5  spring   \n",
       "4        Black              M       NaN        NaN      7  summer   \n",
       "\n",
       "  officer_count_cat                street  \n",
       "0            2 to 3      Chihuahua Street  \n",
       "1             alone   N. Munger Boulevard  \n",
       "2             alone           South Loop   \n",
       "3            2 to 3       Eastside Avenue  \n",
       "4            2 to 3              S. Loop   "
      ]
     },
     "execution_count": 964,
     "metadata": {},
     "output_type": "execute_result"
    }
   ],
   "source": [
    "data.head()"
   ]
  },
  {
   "cell_type": "code",
   "execution_count": 965,
   "id": "0d69bed7",
   "metadata": {},
   "outputs": [
    {
     "name": "stdout",
     "output_type": "stream",
     "text": [
      "<class 'pandas.core.frame.DataFrame'>\n",
      "RangeIndex: 208 entries, 0 to 207\n",
      "Data columns (total 12 columns):\n",
      " #   Column             Non-Null Count  Dtype  \n",
      "---  ------             --------------  -----  \n",
      " 0   date               208 non-null    object \n",
      " 1   location           208 non-null    object \n",
      " 2   subject_statuses   208 non-null    object \n",
      " 3   subject_weapon     208 non-null    object \n",
      " 4   subject_race       208 non-null    object \n",
      " 5   subject_gender     208 non-null    object \n",
      " 6   latitude           203 non-null    float64\n",
      " 7   longitude          203 non-null    float64\n",
      " 8   month              208 non-null    int64  \n",
      " 9   season             208 non-null    object \n",
      " 10  officer_count_cat  208 non-null    object \n",
      " 11  street             208 non-null    object \n",
      "dtypes: float64(2), int64(1), object(9)\n",
      "memory usage: 19.6+ KB\n"
     ]
    }
   ],
   "source": [
    "# check data file\n",
    "data.info(0)"
   ]
  },
  {
   "cell_type": "code",
   "execution_count": 966,
   "id": "5cb78b16",
   "metadata": {},
   "outputs": [
    {
     "data": {
      "text/plain": [
       "Index(['date', 'location', 'subject_statuses', 'subject_weapon',\n",
       "       'subject_race', 'subject_gender', 'latitude', 'longitude', 'month',\n",
       "       'season', 'officer_count_cat', 'street'],\n",
       "      dtype='object')"
      ]
     },
     "execution_count": 966,
     "metadata": {},
     "output_type": "execute_result"
    }
   ],
   "source": [
    "data.columns"
   ]
  },
  {
   "cell_type": "code",
   "execution_count": 967,
   "id": "d29f4c23",
   "metadata": {},
   "outputs": [],
   "source": [
    "# Encoding target variable subject_statuses as oridnal by severity (0 - Shoot and Miss, 1 - Injured, 2 - Deceased)\n",
    "codes_outcome = ['Shoot and Miss', 'Injured', 'Deceased']\n",
    "encoder = OrdinalEncoder(categories=[codes_outcome]).fit(data[['subject_statuses']])\n",
    "data['target'] = encoder.transform(data[['subject_statuses']])"
   ]
  },
  {
   "cell_type": "code",
   "execution_count": 968,
   "id": "119142c3",
   "metadata": {},
   "outputs": [
    {
     "data": {
      "text/html": [
       "<div>\n",
       "<style scoped>\n",
       "    .dataframe tbody tr th:only-of-type {\n",
       "        vertical-align: middle;\n",
       "    }\n",
       "\n",
       "    .dataframe tbody tr th {\n",
       "        vertical-align: top;\n",
       "    }\n",
       "\n",
       "    .dataframe thead th {\n",
       "        text-align: right;\n",
       "    }\n",
       "</style>\n",
       "<table border=\"1\" class=\"dataframe\">\n",
       "  <thead>\n",
       "    <tr style=\"text-align: right;\">\n",
       "      <th>target</th>\n",
       "      <th>0.0</th>\n",
       "      <th>1.0</th>\n",
       "      <th>2.0</th>\n",
       "    </tr>\n",
       "    <tr>\n",
       "      <th>subject_statuses</th>\n",
       "      <th></th>\n",
       "      <th></th>\n",
       "      <th></th>\n",
       "    </tr>\n",
       "  </thead>\n",
       "  <tbody>\n",
       "    <tr>\n",
       "      <th>Deceased</th>\n",
       "      <td>0</td>\n",
       "      <td>0</td>\n",
       "      <td>67</td>\n",
       "    </tr>\n",
       "    <tr>\n",
       "      <th>Injured</th>\n",
       "      <td>0</td>\n",
       "      <td>61</td>\n",
       "      <td>0</td>\n",
       "    </tr>\n",
       "    <tr>\n",
       "      <th>Shoot and Miss</th>\n",
       "      <td>80</td>\n",
       "      <td>0</td>\n",
       "      <td>0</td>\n",
       "    </tr>\n",
       "  </tbody>\n",
       "</table>\n",
       "</div>"
      ],
      "text/plain": [
       "target            0.0  1.0  2.0\n",
       "subject_statuses               \n",
       "Deceased            0    0   67\n",
       "Injured             0   61    0\n",
       "Shoot and Miss     80    0    0"
      ]
     },
     "execution_count": 968,
     "metadata": {},
     "output_type": "execute_result"
    }
   ],
   "source": [
    "# check recoding\n",
    "pd.crosstab(data.subject_statuses, data.target)"
   ]
  },
  {
   "cell_type": "markdown",
   "id": "d29cc7de",
   "metadata": {},
   "source": [
    "## Feature selection"
   ]
  },
  {
   "cell_type": "code",
   "execution_count": 8,
   "id": "99a46ad8",
   "metadata": {},
   "outputs": [],
   "source": [
    "# Checking the influence of independent features on target for feature selection\n",
    "# Note: This is treating the target as quasi-numerical variable, using the ordinal coding by severity\n",
    "# (from 0 - shoot and miss to 2 - deceased). So the Anova will check, wether the groups of the independent variable\n",
    "# differ significantly in the mean of the target (severity of the outcome of the shooting)."
   ]
  },
  {
   "cell_type": "code",
   "execution_count": 9,
   "id": "345d057c",
   "metadata": {},
   "outputs": [
    {
     "name": "stdout",
     "output_type": "stream",
     "text": [
      "                    sum_sq     df         F    PR(>F)\n",
      "subject_weapon   17.539606    6.0  4.567325  0.000228\n",
      "Residual        128.647894  201.0       NaN       NaN\n"
     ]
    }
   ],
   "source": [
    "# subject weapon\n",
    "mod = ols('target ~ subject_weapon', data=data).fit()\n",
    "anova_table=sm.stats.anova_lm(mod, typ=2)\n",
    "print(anova_table)"
   ]
  },
  {
   "cell_type": "code",
   "execution_count": 10,
   "id": "28b057d3",
   "metadata": {},
   "outputs": [
    {
     "name": "stdout",
     "output_type": "stream",
     "text": [
      "                  sum_sq     df         F    PR(>F)\n",
      "subject_race   13.765688    3.0  7.068826  0.000153\n",
      "Residual      132.421812  204.0       NaN       NaN\n"
     ]
    }
   ],
   "source": [
    "# subject race\n",
    "mod = ols('target ~ subject_race', data=data).fit()\n",
    "anova_table=sm.stats.anova_lm(mod, typ=2)\n",
    "print(anova_table)"
   ]
  },
  {
   "cell_type": "code",
   "execution_count": 11,
   "id": "dd2e316e",
   "metadata": {},
   "outputs": [
    {
     "name": "stdout",
     "output_type": "stream",
     "text": [
      "                    sum_sq     df         F    PR(>F)\n",
      "subject_gender    0.020012    1.0  0.028204  0.866794\n",
      "Residual        146.167488  206.0       NaN       NaN\n"
     ]
    }
   ],
   "source": [
    "# subject gender\n",
    "mod = ols('target ~ subject_gender', data=data).fit()\n",
    "anova_table=sm.stats.anova_lm(mod, typ=2)\n",
    "print(anova_table)"
   ]
  },
  {
   "cell_type": "code",
   "execution_count": 12,
   "id": "31730dad",
   "metadata": {},
   "outputs": [
    {
     "name": "stdout",
     "output_type": "stream",
     "text": [
      "              sum_sq     df         F    PR(>F)\n",
      "month       0.084015    1.0  0.118457  0.731065\n",
      "Residual  146.103485  206.0       NaN       NaN\n"
     ]
    }
   ],
   "source": [
    "# month of year\n",
    "mod = ols('target ~ month', data=data).fit()\n",
    "anova_table=sm.stats.anova_lm(mod, typ=2)\n",
    "print(anova_table)"
   ]
  },
  {
   "cell_type": "code",
   "execution_count": 13,
   "id": "586f6464",
   "metadata": {},
   "outputs": [
    {
     "name": "stdout",
     "output_type": "stream",
     "text": [
      "                       sum_sq     df        F    PR(>F)\n",
      "officer_count_cat   10.790017    2.0  8.16837  0.000386\n",
      "Residual           135.397483  205.0      NaN       NaN\n"
     ]
    }
   ],
   "source": [
    "# number of officers involved\n",
    "mod = ols('target ~ officer_count_cat', data=data).fit()\n",
    "anova_table=sm.stats.anova_lm(mod, typ=2)\n",
    "print(anova_table)"
   ]
  },
  {
   "cell_type": "code",
   "execution_count": 14,
   "id": "8486065c",
   "metadata": {},
   "outputs": [
    {
     "name": "stdout",
     "output_type": "stream",
     "text": [
      "              sum_sq     df         F    PR(>F)\n",
      "season      1.082876    3.0  0.507465  0.677558\n",
      "Residual  145.104624  204.0       NaN       NaN\n"
     ]
    }
   ],
   "source": [
    "# season\n",
    "mod = ols('target ~ season', data=data).fit()\n",
    "anova_table=sm.stats.anova_lm(mod, typ=2)\n",
    "print(anova_table)"
   ]
  },
  {
   "cell_type": "markdown",
   "id": "ce933db1",
   "metadata": {},
   "source": [
    "### --> looks like subject_weapon, subject_race and number of officers involved are relevant "
   ]
  },
  {
   "cell_type": "code",
   "execution_count": 15,
   "id": "271308a5",
   "metadata": {},
   "outputs": [
    {
     "data": {
      "image/png": "[encoded data removed]",
      "text/plain": [
       "<Figure size 412x360 with 1 Axes>"
      ]
     },
     "metadata": {
      "needs_background": "light"
     },
     "output_type": "display_data"
    },
    {
     "data": {
      "image/png": "[encoded data removed]",
      "text/plain": [
       "<Figure size 412x360 with 1 Axes>"
      ]
     },
     "metadata": {
      "needs_background": "light"
     },
     "output_type": "display_data"
    },
    {
     "data": {
      "image/png": "[encoded data removed]",
      "text/plain": [
       "<Figure size 412x360 with 1 Axes>"
      ]
     },
     "metadata": {
      "needs_background": "light"
     },
     "output_type": "display_data"
    },
    {
     "data": {
      "image/png": "[encoded data removed]",
      "text/plain": [
       "<Figure size 412x360 with 1 Axes>"
      ]
     },
     "metadata": {
      "needs_background": "light"
     },
     "output_type": "display_data"
    },
    {
     "data": {
      "image/png": "[encoded data removed]",
      "text/plain": [
       "<Figure size 412x360 with 1 Axes>"
      ]
     },
     "metadata": {
      "needs_background": "light"
     },
     "output_type": "display_data"
    },
    {
     "data": {
      "image/png": "[encoded data removed]",
      "text/plain": [
       "<Figure size 412x360 with 1 Axes>"
      ]
     },
     "metadata": {
      "needs_background": "light"
     },
     "output_type": "display_data"
    }
   ],
   "source": [
    "# also plotting all possible features in relaion to target\n",
    "plotting = data[['subject_weapon', 'subject_race', 'subject_gender', 'month', 'season', 'officer_count_cat']]\n",
    "for i in plotting.columns:\n",
    "    sns.catplot(y=i, hue='target', kind='count', palette='pastel', edgecolor='.6', data=data)"
   ]
  },
  {
   "cell_type": "markdown",
   "id": "71571a85",
   "metadata": {},
   "source": [
    "# Building first model - logistic regression"
   ]
  },
  {
   "cell_type": "markdown",
   "id": "0e299064",
   "metadata": {},
   "source": [
    "## 1. using all features (base model)"
   ]
  },
  {
   "cell_type": "code",
   "execution_count": 1009,
   "id": "2b9193fe",
   "metadata": {},
   "outputs": [],
   "source": [
    "# X-y split\n",
    "X = data[['subject_weapon', 'subject_race', 'subject_gender',\n",
    "       'season', 'officer_count_cat']]\n",
    "y = data['target']"
   ]
  },
  {
   "cell_type": "code",
   "execution_count": 1010,
   "id": "187cfeb1",
   "metadata": {},
   "outputs": [],
   "source": [
    "# train-test-split\n",
    "X_train, X_test, y_train, y_test = train_test_split(X, y, test_size = 0.25, random_state = 100, stratify = y)"
   ]
  },
  {
   "cell_type": "code",
   "execution_count": 1011,
   "id": "934453a5",
   "metadata": {},
   "outputs": [],
   "source": [
    "# Encode features with OneHotEncoder\n",
    "encoder = OneHotEncoder(handle_unknown = 'error', drop = 'first').fit(X_train)\n",
    "X_train = encoder.transform(X_train).toarray()\n",
    "X_test = encoder.transform(X_test).toarray()"
   ]
  },
  {
   "cell_type": "code",
   "execution_count": 1012,
   "id": "7ed04863",
   "metadata": {},
   "outputs": [],
   "source": [
    "# Build model Logistic regression\n",
    "LogReg = LogisticRegression(class_weight='balanced')\n",
    "LogReg.fit(X_train, y_train)\n",
    "y_train_predict = LogReg.predict(X_train)\n",
    "y_test_predict = LogReg.predict(X_test)"
   ]
  },
  {
   "cell_type": "code",
   "execution_count": 1013,
   "id": "5c6956a5",
   "metadata": {},
   "outputs": [
    {
     "data": {
      "text/plain": [
       "0.4807692307692308"
      ]
     },
     "execution_count": 1013,
     "metadata": {},
     "output_type": "execute_result"
    }
   ],
   "source": [
    "# Get score\n",
    "LogReg.score(X_test, y_test)"
   ]
  },
  {
   "cell_type": "code",
   "execution_count": 1014,
   "id": "b6bec776",
   "metadata": {},
   "outputs": [
    {
     "name": "stdout",
     "output_type": "stream",
     "text": [
      "              precision    recall  f1-score   support\n",
      "\n",
      "         0.0       0.64      0.70      0.67        60\n",
      "         1.0       0.50      0.39      0.44        46\n",
      "         2.0       0.56      0.60      0.58        50\n",
      "\n",
      "    accuracy                           0.58       156\n",
      "   macro avg       0.56      0.56      0.56       156\n",
      "weighted avg       0.57      0.58      0.57       156\n",
      "\n",
      "              precision    recall  f1-score   support\n",
      "\n",
      "         0.0       0.55      0.60      0.57        20\n",
      "         1.0       0.37      0.47      0.41        15\n",
      "         2.0       0.55      0.35      0.43        17\n",
      "\n",
      "    accuracy                           0.48        52\n",
      "   macro avg       0.49      0.47      0.47        52\n",
      "weighted avg       0.49      0.48      0.48        52\n",
      "\n"
     ]
    }
   ],
   "source": [
    "# Model validation\n",
    "print(classification_report(y_train, y_train_predict))\n",
    "print(classification_report(y_test, y_test_predict))"
   ]
  },
  {
   "cell_type": "code",
   "execution_count": 1015,
   "id": "3cc050a1",
   "metadata": {},
   "outputs": [
    {
     "name": "stderr",
     "output_type": "stream",
     "text": [
      "C:\\Users\\Anne_2\\anaconda3\\lib\\site-packages\\sklearn\\utils\\deprecation.py:87: FutureWarning: Function plot_confusion_matrix is deprecated; Function `plot_confusion_matrix` is deprecated in 1.0 and will be removed in 1.2. Use one of the class methods: ConfusionMatrixDisplay.from_predictions or ConfusionMatrixDisplay.from_estimator.\n",
      "  warnings.warn(msg, category=FutureWarning)\n",
      "C:\\Users\\Anne_2\\anaconda3\\lib\\site-packages\\sklearn\\utils\\deprecation.py:87: FutureWarning: Function plot_confusion_matrix is deprecated; Function `plot_confusion_matrix` is deprecated in 1.0 and will be removed in 1.2. Use one of the class methods: ConfusionMatrixDisplay.from_predictions or ConfusionMatrixDisplay.from_estimator.\n",
      "  warnings.warn(msg, category=FutureWarning)\n"
     ]
    },
    {
     "data": {
      "image/png": "[encoded data removed]",
      "text/plain": [
       "<Figure size 432x288 with 2 Axes>"
      ]
     },
     "metadata": {
      "needs_background": "light"
     },
     "output_type": "display_data"
    },
    {
     "data": {
      "image/png": "[encoded data removed]",
      "text/plain": [
       "<Figure size 432x288 with 2 Axes>"
      ]
     },
     "metadata": {
      "needs_background": "light"
     },
     "output_type": "display_data"
    }
   ],
   "source": [
    "# plot confusion matrix\n",
    "plot_confusion_matrix(LogReg, X_train, y_train)\n",
    "plot_confusion_matrix(LogReg, X_test, y_test)\n",
    "plt.show()"
   ]
  },
  {
   "cell_type": "markdown",
   "id": "103e3c23",
   "metadata": {},
   "source": [
    "## 2. using only selected feature (weapon, race, officer_count)"
   ]
  },
  {
   "cell_type": "code",
   "execution_count": 1016,
   "id": "88c3684f",
   "metadata": {},
   "outputs": [],
   "source": [
    "# X-y split\n",
    "X = data[['subject_weapon', 'subject_race', 'officer_count_cat']]\n",
    "y = data['target']"
   ]
  },
  {
   "cell_type": "code",
   "execution_count": 1017,
   "id": "c5113479",
   "metadata": {},
   "outputs": [],
   "source": [
    "# train-test-split\n",
    "X_train, X_test, y_train, y_test = train_test_split(X, y, test_size = 0.25, random_state = 100, stratify = y)"
   ]
  },
  {
   "cell_type": "code",
   "execution_count": 1018,
   "id": "4057f2b8",
   "metadata": {},
   "outputs": [],
   "source": [
    "# Encode features with OneHotEncoder\n",
    "encoder = OneHotEncoder(handle_unknown = 'error', drop = 'first').fit(X_train)\n",
    "X_train = encoder.transform(X_train).toarray()\n",
    "X_test = encoder.transform(X_test).toarray()"
   ]
  },
  {
   "cell_type": "code",
   "execution_count": 1019,
   "id": "ddf47885",
   "metadata": {},
   "outputs": [],
   "source": [
    "# Build model Logistic regression\n",
    "LogReg = LogisticRegression(class_weight='balanced')\n",
    "LogReg.fit(X_train, y_train)\n",
    "y_train_predict = LogReg.predict(X_train)\n",
    "y_test_predict = LogReg.predict(X_test)"
   ]
  },
  {
   "cell_type": "code",
   "execution_count": 1020,
   "id": "8832932a",
   "metadata": {},
   "outputs": [
    {
     "data": {
      "text/plain": [
       "0.46153846153846156"
      ]
     },
     "execution_count": 1020,
     "metadata": {},
     "output_type": "execute_result"
    }
   ],
   "source": [
    "# Get score\n",
    "LogReg.score(X_test, y_test)"
   ]
  },
  {
   "cell_type": "code",
   "execution_count": 1021,
   "id": "add13609",
   "metadata": {},
   "outputs": [
    {
     "name": "stdout",
     "output_type": "stream",
     "text": [
      "              precision    recall  f1-score   support\n",
      "\n",
      "         0.0       0.66      0.72      0.69        60\n",
      "         1.0       0.42      0.46      0.44        46\n",
      "         2.0       0.63      0.52      0.57        50\n",
      "\n",
      "    accuracy                           0.58       156\n",
      "   macro avg       0.57      0.56      0.57       156\n",
      "weighted avg       0.58      0.58      0.58       156\n",
      "\n",
      "              precision    recall  f1-score   support\n",
      "\n",
      "         0.0       0.52      0.70      0.60        20\n",
      "         1.0       0.29      0.33      0.31        15\n",
      "         2.0       0.62      0.29      0.40        17\n",
      "\n",
      "    accuracy                           0.46        52\n",
      "   macro avg       0.48      0.44      0.44        52\n",
      "weighted avg       0.49      0.46      0.45        52\n",
      "\n"
     ]
    }
   ],
   "source": [
    "# Model validation\n",
    "print(classification_report(y_train, y_train_predict))\n",
    "print(classification_report(y_test, y_test_predict))"
   ]
  },
  {
   "cell_type": "code",
   "execution_count": 1022,
   "id": "df1259ca",
   "metadata": {},
   "outputs": [
    {
     "name": "stderr",
     "output_type": "stream",
     "text": [
      "C:\\Users\\Anne_2\\anaconda3\\lib\\site-packages\\sklearn\\utils\\deprecation.py:87: FutureWarning: Function plot_confusion_matrix is deprecated; Function `plot_confusion_matrix` is deprecated in 1.0 and will be removed in 1.2. Use one of the class methods: ConfusionMatrixDisplay.from_predictions or ConfusionMatrixDisplay.from_estimator.\n",
      "  warnings.warn(msg, category=FutureWarning)\n",
      "C:\\Users\\Anne_2\\anaconda3\\lib\\site-packages\\sklearn\\utils\\deprecation.py:87: FutureWarning: Function plot_confusion_matrix is deprecated; Function `plot_confusion_matrix` is deprecated in 1.0 and will be removed in 1.2. Use one of the class methods: ConfusionMatrixDisplay.from_predictions or ConfusionMatrixDisplay.from_estimator.\n",
      "  warnings.warn(msg, category=FutureWarning)\n"
     ]
    },
    {
     "data": {
      "image/png": "[encoded data removed]",
      "text/plain": [
       "<Figure size 432x288 with 2 Axes>"
      ]
     },
     "metadata": {
      "needs_background": "light"
     },
     "output_type": "display_data"
    },
    {
     "data": {
      "image/png": "[encoded data removed]",
      "text/plain": [
       "<Figure size 432x288 with 2 Axes>"
      ]
     },
     "metadata": {
      "needs_background": "light"
     },
     "output_type": "display_data"
    }
   ],
   "source": [
    "plot_confusion_matrix(LogReg, X_train, y_train)\n",
    "plot_confusion_matrix(LogReg, X_test, y_test)\n",
    "plt.show()"
   ]
  },
  {
   "cell_type": "markdown",
   "id": "28ea3468",
   "metadata": {},
   "source": [
    "### --> model is performing better for group 0, but worse for group 1"
   ]
  },
  {
   "cell_type": "markdown",
   "id": "fc382be7",
   "metadata": {},
   "source": [
    "## 3. Using best performing combination of features"
   ]
  },
  {
   "cell_type": "markdown",
   "id": "a1b76e77",
   "metadata": {},
   "source": [
    "#### Including 'season' - even though the Anova didn't show a significant difference in the severity of the shooting result for 'season', it is obviously still useful for discriminating between the three groups of the target. \n",
    "#### Also using 'weighted' LogisticRegression to improve recall of 'injured' group, reducing test size to have more training data"
   ]
  },
  {
   "cell_type": "code",
   "execution_count": 983,
   "id": "ddf08343",
   "metadata": {},
   "outputs": [],
   "source": [
    "# X-y split\n",
    "X = data[['subject_weapon', 'subject_race', 'season', 'officer_count_cat']]\n",
    "y = data['target']"
   ]
  },
  {
   "cell_type": "code",
   "execution_count": 996,
   "id": "f046fbde",
   "metadata": {},
   "outputs": [],
   "source": [
    "# train-test-split\n",
    "X_train, X_test, y_train, y_test = train_test_split(X, y, test_size = 0.25, random_state = 100, stratify = y)"
   ]
  },
  {
   "cell_type": "code",
   "execution_count": 997,
   "id": "3d8c5863",
   "metadata": {},
   "outputs": [],
   "source": [
    "# Encode features with OneHotEncoder\n",
    "encoder = OneHotEncoder(handle_unknown = 'error', drop = 'first').fit(X_train)\n",
    "X_train = encoder.transform(X_train).toarray()\n",
    "X_test = encoder.transform(X_test).toarray()"
   ]
  },
  {
   "cell_type": "code",
   "execution_count": 998,
   "id": "7b75260e",
   "metadata": {},
   "outputs": [],
   "source": [
    "# Build model Logistic regression\n",
    "LogReg = LogisticRegression(class_weight='balanced')\n",
    "LogReg.fit(X_train, y_train)\n",
    "y_train_predict = LogReg.predict(X_train)\n",
    "y_test_predict = LogReg.predict(X_test)"
   ]
  },
  {
   "cell_type": "code",
   "execution_count": 999,
   "id": "7067d2d9",
   "metadata": {},
   "outputs": [
    {
     "data": {
      "text/plain": [
       "0.4807692307692308"
      ]
     },
     "execution_count": 999,
     "metadata": {},
     "output_type": "execute_result"
    }
   ],
   "source": [
    "# Get score\n",
    "LogReg.score(X_test, y_test)"
   ]
  },
  {
   "cell_type": "code",
   "execution_count": 1000,
   "id": "dc3aa89e",
   "metadata": {},
   "outputs": [
    {
     "name": "stdout",
     "output_type": "stream",
     "text": [
      "              precision    recall  f1-score   support\n",
      "\n",
      "         0.0       0.64      0.70      0.67        60\n",
      "         1.0       0.50      0.39      0.44        46\n",
      "         2.0       0.56      0.60      0.58        50\n",
      "\n",
      "    accuracy                           0.58       156\n",
      "   macro avg       0.56      0.56      0.56       156\n",
      "weighted avg       0.57      0.58      0.57       156\n",
      "\n",
      "              precision    recall  f1-score   support\n",
      "\n",
      "         0.0       0.55      0.60      0.57        20\n",
      "         1.0       0.37      0.47      0.41        15\n",
      "         2.0       0.55      0.35      0.43        17\n",
      "\n",
      "    accuracy                           0.48        52\n",
      "   macro avg       0.49      0.47      0.47        52\n",
      "weighted avg       0.49      0.48      0.48        52\n",
      "\n"
     ]
    }
   ],
   "source": [
    "# Model validation\n",
    "print(classification_report(y_train, y_train_predict))\n",
    "print(classification_report(y_test, y_test_predict))"
   ]
  },
  {
   "cell_type": "code",
   "execution_count": 1001,
   "id": "d09fee71",
   "metadata": {},
   "outputs": [
    {
     "name": "stderr",
     "output_type": "stream",
     "text": [
      "C:\\Users\\Anne_2\\anaconda3\\lib\\site-packages\\sklearn\\utils\\deprecation.py:87: FutureWarning: Function plot_confusion_matrix is deprecated; Function `plot_confusion_matrix` is deprecated in 1.0 and will be removed in 1.2. Use one of the class methods: ConfusionMatrixDisplay.from_predictions or ConfusionMatrixDisplay.from_estimator.\n",
      "  warnings.warn(msg, category=FutureWarning)\n",
      "C:\\Users\\Anne_2\\anaconda3\\lib\\site-packages\\sklearn\\utils\\deprecation.py:87: FutureWarning: Function plot_confusion_matrix is deprecated; Function `plot_confusion_matrix` is deprecated in 1.0 and will be removed in 1.2. Use one of the class methods: ConfusionMatrixDisplay.from_predictions or ConfusionMatrixDisplay.from_estimator.\n",
      "  warnings.warn(msg, category=FutureWarning)\n"
     ]
    },
    {
     "data": {
      "image/png": "[encoded data removed]",
      "text/plain": [
       "<Figure size 432x288 with 2 Axes>"
      ]
     },
     "metadata": {
      "needs_background": "light"
     },
     "output_type": "display_data"
    },
    {
     "data": {
      "image/png": "[encoded data removed]",
      "text/plain": [
       "<Figure size 432x288 with 2 Axes>"
      ]
     },
     "metadata": {
      "needs_background": "light"
     },
     "output_type": "display_data"
    }
   ],
   "source": [
    "# plot confusion matrix\n",
    "plot_confusion_matrix(LogReg, X_train, y_train)\n",
    "plot_confusion_matrix(LogReg, X_test, y_test)\n",
    "plt.show()"
   ]
  },
  {
   "cell_type": "markdown",
   "id": "0f4da20a",
   "metadata": {},
   "source": [
    "#### --> there is still an issue with prediction of 'injured' group in both, training and test, there are more wrongly predicted 'injured' cases, than correctly predicted  ones."
   ]
  },
  {
   "cell_type": "markdown",
   "id": "41358917",
   "metadata": {},
   "source": [
    "## See if KNN model performes better"
   ]
  },
  {
   "cell_type": "code",
   "execution_count": 41,
   "id": "b035ee6e",
   "metadata": {},
   "outputs": [],
   "source": [
    "# Choosing k\n",
    "\n",
    "scores = []\n",
    "for k in range(2,15):\n",
    "    model = KNeighborsClassifier(n_neighbors = k)\n",
    "    model.fit(X_train, y_train)\n",
    "    scores.append(model.score(X_test, y_test))"
   ]
  },
  {
   "cell_type": "code",
   "execution_count": 42,
   "id": "55997bd2",
   "metadata": {},
   "outputs": [
    {
     "data": {
      "image/png": "[encoded data removed]",
      "text/plain": [
       "<Figure size 432x288 with 1 Axes>"
      ]
     },
     "metadata": {
      "needs_background": "light"
     },
     "output_type": "display_data"
    }
   ],
   "source": [
    "# elbow diagram\n",
    "\n",
    "plt.plot(range(2,15), scores, color = 'blue', linestyle = 'dashed', marker = 'o', markerfacecolor = 'red', markersize = 10)\n",
    "plt.title('R2 scores vs. K values')\n",
    "plt.gca().invert_yaxis()\n",
    "plt.xlabel('k')\n",
    "plt.ylabel('R2 score')\n",
    "plt.show()"
   ]
  },
  {
   "cell_type": "code",
   "execution_count": 43,
   "id": "eed8629b",
   "metadata": {},
   "outputs": [
    {
     "data": {
      "text/plain": [
       "0.4807692307692308"
      ]
     },
     "execution_count": 43,
     "metadata": {},
     "output_type": "execute_result"
    }
   ],
   "source": [
    "# running model with k = 4\n",
    "KNN = KNeighborsClassifier(n_neighbors = 4)\n",
    "KNN.fit(X_train, y_train)\n",
    "score = KNN.score(X_test, y_test)\n",
    "\n",
    "y_train_predict = KNN.predict(X_train)\n",
    "y_test_predict = KNN.predict(X_test)\n",
    "\n",
    "score"
   ]
  },
  {
   "cell_type": "code",
   "execution_count": 44,
   "id": "60671f5a",
   "metadata": {},
   "outputs": [
    {
     "name": "stdout",
     "output_type": "stream",
     "text": [
      "              precision    recall  f1-score   support\n",
      "\n",
      "         0.0       0.60      0.85      0.70        60\n",
      "         1.0       0.65      0.37      0.47        46\n",
      "         2.0       0.71      0.64      0.67        50\n",
      "\n",
      "    accuracy                           0.64       156\n",
      "   macro avg       0.65      0.62      0.62       156\n",
      "weighted avg       0.65      0.64      0.63       156\n",
      "\n",
      "              precision    recall  f1-score   support\n",
      "\n",
      "         0.0       0.56      0.70      0.62        20\n",
      "         1.0       0.31      0.33      0.32        15\n",
      "         2.0       0.55      0.35      0.43        17\n",
      "\n",
      "    accuracy                           0.48        52\n",
      "   macro avg       0.47      0.46      0.46        52\n",
      "weighted avg       0.48      0.48      0.47        52\n",
      "\n"
     ]
    }
   ],
   "source": [
    "# Model validation\n",
    "print(classification_report(y_train, y_train_predict))\n",
    "print(classification_report(y_test, y_test_predict))"
   ]
  },
  {
   "cell_type": "code",
   "execution_count": 45,
   "id": "36869092",
   "metadata": {},
   "outputs": [
    {
     "name": "stderr",
     "output_type": "stream",
     "text": [
      "C:\\Users\\Anne_2\\anaconda3\\lib\\site-packages\\sklearn\\utils\\deprecation.py:87: FutureWarning: Function plot_confusion_matrix is deprecated; Function `plot_confusion_matrix` is deprecated in 1.0 and will be removed in 1.2. Use one of the class methods: ConfusionMatrixDisplay.from_predictions or ConfusionMatrixDisplay.from_estimator.\n",
      "  warnings.warn(msg, category=FutureWarning)\n",
      "C:\\Users\\Anne_2\\anaconda3\\lib\\site-packages\\sklearn\\utils\\deprecation.py:87: FutureWarning: Function plot_confusion_matrix is deprecated; Function `plot_confusion_matrix` is deprecated in 1.0 and will be removed in 1.2. Use one of the class methods: ConfusionMatrixDisplay.from_predictions or ConfusionMatrixDisplay.from_estimator.\n",
      "  warnings.warn(msg, category=FutureWarning)\n"
     ]
    },
    {
     "data": {
      "image/png": "[encoded data removed]",
      "text/plain": [
       "<Figure size 432x288 with 2 Axes>"
      ]
     },
     "metadata": {
      "needs_background": "light"
     },
     "output_type": "display_data"
    },
    {
     "data": {
      "image/png": "[encoded data removed]",
      "text/plain": [
       "<Figure size 432x288 with 2 Axes>"
      ]
     },
     "metadata": {
      "needs_background": "light"
     },
     "output_type": "display_data"
    }
   ],
   "source": [
    "# plot confusion matrix\n",
    "plot_confusion_matrix(KNN, X_train, y_train)\n",
    "plot_confusion_matrix(KNN, X_test, y_test)\n",
    "plt.show()"
   ]
  },
  {
   "cell_type": "markdown",
   "id": "fbfe7b01",
   "metadata": {},
   "source": [
    "### --> Similar results than logistic regression, performing a bit better on training set"
   ]
  },
  {
   "cell_type": "markdown",
   "id": "d0f0c51c",
   "metadata": {},
   "source": [
    "## Third model: Linear Discriminant Analysis (LDA) "
   ]
  },
  {
   "cell_type": "code",
   "execution_count": 46,
   "id": "f96cc1fa",
   "metadata": {},
   "outputs": [
    {
     "data": {
      "text/plain": [
       "0.5"
      ]
     },
     "execution_count": 46,
     "metadata": {},
     "output_type": "execute_result"
    }
   ],
   "source": [
    "# Build model\n",
    "LDA = LinearDiscriminantAnalysis()\n",
    "LDA.fit(X_train, y_train)\n",
    "score = LDA.score(X_test, y_test)\n",
    "\n",
    "y_train_predict = LDA.predict(X_train)\n",
    "y_test_predict = LDA.predict(X_test)\n",
    "\n",
    "score"
   ]
  },
  {
   "cell_type": "code",
   "execution_count": 47,
   "id": "6d340236",
   "metadata": {},
   "outputs": [
    {
     "name": "stdout",
     "output_type": "stream",
     "text": [
      "              precision    recall  f1-score   support\n",
      "\n",
      "         0.0       0.60      0.85      0.70        60\n",
      "         1.0       0.60      0.33      0.42        46\n",
      "         2.0       0.61      0.56      0.58        50\n",
      "\n",
      "    accuracy                           0.60       156\n",
      "   macro avg       0.60      0.58      0.57       156\n",
      "weighted avg       0.60      0.60      0.58       156\n",
      "\n",
      "              precision    recall  f1-score   support\n",
      "\n",
      "         0.0       0.48      0.80      0.60        20\n",
      "         1.0       0.45      0.33      0.38        15\n",
      "         2.0       0.62      0.29      0.40        17\n",
      "\n",
      "    accuracy                           0.50        52\n",
      "   macro avg       0.52      0.48      0.46        52\n",
      "weighted avg       0.52      0.50      0.47        52\n",
      "\n"
     ]
    }
   ],
   "source": [
    "# Model validation\n",
    "print(classification_report(y_train, y_train_predict))\n",
    "print(classification_report(y_test, y_test_predict))"
   ]
  },
  {
   "cell_type": "code",
   "execution_count": 48,
   "id": "e1985f06",
   "metadata": {},
   "outputs": [
    {
     "name": "stderr",
     "output_type": "stream",
     "text": [
      "C:\\Users\\Anne_2\\anaconda3\\lib\\site-packages\\sklearn\\utils\\deprecation.py:87: FutureWarning: Function plot_confusion_matrix is deprecated; Function `plot_confusion_matrix` is deprecated in 1.0 and will be removed in 1.2. Use one of the class methods: ConfusionMatrixDisplay.from_predictions or ConfusionMatrixDisplay.from_estimator.\n",
      "  warnings.warn(msg, category=FutureWarning)\n",
      "C:\\Users\\Anne_2\\anaconda3\\lib\\site-packages\\sklearn\\utils\\deprecation.py:87: FutureWarning: Function plot_confusion_matrix is deprecated; Function `plot_confusion_matrix` is deprecated in 1.0 and will be removed in 1.2. Use one of the class methods: ConfusionMatrixDisplay.from_predictions or ConfusionMatrixDisplay.from_estimator.\n",
      "  warnings.warn(msg, category=FutureWarning)\n"
     ]
    },
    {
     "data": {
      "image/png": "[encoded data removed]",
      "text/plain": [
       "<Figure size 432x288 with 2 Axes>"
      ]
     },
     "metadata": {
      "needs_background": "light"
     },
     "output_type": "display_data"
    },
    {
     "data": {
      "image/png": "[encoded data removed]",
      "text/plain": [
       "<Figure size 432x288 with 2 Axes>"
      ]
     },
     "metadata": {
      "needs_background": "light"
     },
     "output_type": "display_data"
    }
   ],
   "source": [
    "# plot confusion matrix\n",
    "plot_confusion_matrix(LDA, X_train, y_train)\n",
    "plot_confusion_matrix(LDA, X_test, y_test)\n",
    "plt.show()"
   ]
  },
  {
   "cell_type": "markdown",
   "id": "c341502e",
   "metadata": {},
   "source": [
    "### --> Also performing similar to logistic regression but true label for deceased (2) is more often false predicted as 0 (shoot and miss), while in logistic regression and KNN it is rather false predicted as 1 (injured). As group 0 is dominant group, maybe over/undersampling would help for LDA (similar to weighted regression)"
   ]
  },
  {
   "cell_type": "markdown",
   "id": "ee961348",
   "metadata": {},
   "source": [
    "## Using combination of Over and Undersampling to try to improve LDA"
   ]
  },
  {
   "cell_type": "code",
   "execution_count": 49,
   "id": "066db359",
   "metadata": {},
   "outputs": [],
   "source": [
    "# X-y split\n",
    "X = data[['subject_weapon', 'subject_race', 'season', 'officer_count_cat']]\n",
    "y = data['target']"
   ]
  },
  {
   "cell_type": "code",
   "execution_count": 50,
   "id": "c7e6d1d1",
   "metadata": {},
   "outputs": [],
   "source": [
    "# train-test-split\n",
    "X_train, X_test, y_train, y_test = train_test_split(X, y, test_size = 0.25, random_state = 100, stratify = y)"
   ]
  },
  {
   "cell_type": "code",
   "execution_count": 51,
   "id": "9423b4d2",
   "metadata": {},
   "outputs": [
    {
     "data": {
      "text/plain": [
       "0.0    60\n",
       "2.0    50\n",
       "1.0    46\n",
       "Name: target, dtype: int64"
      ]
     },
     "execution_count": 51,
     "metadata": {},
     "output_type": "execute_result"
    }
   ],
   "source": [
    "# Check samples\n",
    "y_train.value_counts()"
   ]
  },
  {
   "cell_type": "code",
   "execution_count": 52,
   "id": "628aff2c",
   "metadata": {},
   "outputs": [
    {
     "data": {
      "text/plain": [
       "0.0    52\n",
       "2.0    50\n",
       "1.0    46\n",
       "Name: target, dtype: int64"
      ]
     },
     "execution_count": 52,
     "metadata": {},
     "output_type": "execute_result"
    }
   ],
   "source": [
    "# Undersampling\n",
    "rus = RandomUnderSampler(sampling_strategy = {0.0: 52, 1.0: 46, 2.0: 50}, random_state = 10)\n",
    "X_train, y_train = rus.fit_resample(X_train,y_train)\n",
    "y_train.value_counts()"
   ]
  },
  {
   "cell_type": "code",
   "execution_count": 53,
   "id": "15f29255",
   "metadata": {},
   "outputs": [
    {
     "data": {
      "text/plain": [
       "0.0    52\n",
       "2.0    52\n",
       "1.0    52\n",
       "Name: target, dtype: int64"
      ]
     },
     "execution_count": 53,
     "metadata": {},
     "output_type": "execute_result"
    }
   ],
   "source": [
    "# Oversampling\n",
    "ros = RandomOverSampler(sampling_strategy = {0.0: 52, 1.0: 52, 2.0: 52}, random_state = 42)\n",
    "X_train, y_train = ros.fit_resample(X_train, y_train)\n",
    "y_train.value_counts()"
   ]
  },
  {
   "cell_type": "code",
   "execution_count": 54,
   "id": "72076611",
   "metadata": {},
   "outputs": [],
   "source": [
    "# Encode features with OneHotEncoder\n",
    "encoder = OneHotEncoder(handle_unknown = 'error', drop = 'first').fit(X_train)\n",
    "X_train = encoder.transform(X_train).toarray()\n",
    "X_test = encoder.transform(X_test).toarray()"
   ]
  },
  {
   "cell_type": "code",
   "execution_count": 55,
   "id": "0219af33",
   "metadata": {},
   "outputs": [
    {
     "data": {
      "text/plain": [
       "0.4230769230769231"
      ]
     },
     "execution_count": 55,
     "metadata": {},
     "output_type": "execute_result"
    }
   ],
   "source": [
    "# Build model\n",
    "LDA = LinearDiscriminantAnalysis()\n",
    "LDA.fit(X_train, y_train)\n",
    "score = LDA.score(X_test, y_test)\n",
    "\n",
    "y_train_predict = LDA.predict(X_train)\n",
    "y_test_predict = LDA.predict(X_test)\n",
    "\n",
    "score"
   ]
  },
  {
   "cell_type": "code",
   "execution_count": 56,
   "id": "e4654f56",
   "metadata": {},
   "outputs": [
    {
     "name": "stdout",
     "output_type": "stream",
     "text": [
      "              precision    recall  f1-score   support\n",
      "\n",
      "         0.0       0.64      0.67      0.65        52\n",
      "         1.0       0.49      0.44      0.46        52\n",
      "         2.0       0.57      0.60      0.58        52\n",
      "\n",
      "    accuracy                           0.57       156\n",
      "   macro avg       0.57      0.57      0.57       156\n",
      "weighted avg       0.57      0.57      0.57       156\n",
      "\n",
      "              precision    recall  f1-score   support\n",
      "\n",
      "         0.0       0.50      0.50      0.50        20\n",
      "         1.0       0.30      0.47      0.37        15\n",
      "         2.0       0.56      0.29      0.38        17\n",
      "\n",
      "    accuracy                           0.42        52\n",
      "   macro avg       0.45      0.42      0.42        52\n",
      "weighted avg       0.46      0.42      0.42        52\n",
      "\n"
     ]
    }
   ],
   "source": [
    "# Model validation\n",
    "print(classification_report(y_train, y_train_predict))\n",
    "print(classification_report(y_test, y_test_predict))"
   ]
  },
  {
   "cell_type": "code",
   "execution_count": 57,
   "id": "55261b07",
   "metadata": {},
   "outputs": [
    {
     "name": "stderr",
     "output_type": "stream",
     "text": [
      "C:\\Users\\Anne_2\\anaconda3\\lib\\site-packages\\sklearn\\utils\\deprecation.py:87: FutureWarning: Function plot_confusion_matrix is deprecated; Function `plot_confusion_matrix` is deprecated in 1.0 and will be removed in 1.2. Use one of the class methods: ConfusionMatrixDisplay.from_predictions or ConfusionMatrixDisplay.from_estimator.\n",
      "  warnings.warn(msg, category=FutureWarning)\n",
      "C:\\Users\\Anne_2\\anaconda3\\lib\\site-packages\\sklearn\\utils\\deprecation.py:87: FutureWarning: Function plot_confusion_matrix is deprecated; Function `plot_confusion_matrix` is deprecated in 1.0 and will be removed in 1.2. Use one of the class methods: ConfusionMatrixDisplay.from_predictions or ConfusionMatrixDisplay.from_estimator.\n",
      "  warnings.warn(msg, category=FutureWarning)\n"
     ]
    },
    {
     "data": {
      "image/png": "[encoded data removed]",
      "text/plain": [
       "<Figure size 432x288 with 2 Axes>"
      ]
     },
     "metadata": {
      "needs_background": "light"
     },
     "output_type": "display_data"
    },
    {
     "data": {
      "image/png": "[encoded data removed]",
      "text/plain": [
       "<Figure size 432x288 with 2 Axes>"
      ]
     },
     "metadata": {
      "needs_background": "light"
     },
     "output_type": "display_data"
    }
   ],
   "source": [
    "# plot confusion matrix\n",
    "plot_confusion_matrix(LDA, X_train, y_train)\n",
    "plot_confusion_matrix(LDA, X_test, y_test)\n",
    "plt.show()"
   ]
  },
  {
   "cell_type": "markdown",
   "id": "7947007d",
   "metadata": {},
   "source": [
    "### --> not performing better than weighted logistic regression"
   ]
  },
  {
   "cell_type": "markdown",
   "id": "525f3d88",
   "metadata": {},
   "source": [
    "### --> None of the models seem to be very effective/correct in predicting the outcome of a shooting incident, since there are always more wrongly predicted cases in the test set for groups 1 and 2, then correctly predicted ones. Reasons might be  the low sample size, resulting in group sizes below 100 cases and/or insufficient features."
   ]
  },
  {
   "cell_type": "markdown",
   "id": "494365ff",
   "metadata": {},
   "source": [
    "# Trying to get an idea of importance of features for severe outcome of shooting (subject deceased).\n",
    "### To increase the sample size, no train/test split is done - not building a model for predictions but simply analyzing all past cases, cross validation is used for model validation.\n",
    "### To improve interpretation of regression coefficients, target is transformed to binary target (survived vs. deceased) and consciously choosing the reference values of the features (column to drop in OneHotEncoder)"
   ]
  },
  {
   "cell_type": "code",
   "execution_count": 1023,
   "id": "e43fcbfe",
   "metadata": {},
   "outputs": [],
   "source": [
    "# recode target to either 'survived' (shoot+miss and injured) or 'deceased'\n",
    "data['target2'] = np.where(data['target'] == 0, 0, data['target']) #recode all '1'(injured) to '0' (survived)\n",
    "data['target2'] = np.where(data['target'] == 1, 0, data['target2'])\n",
    "data['target2'] = np.where(data['target'] == 2, 1, data['target2']) # recode all '2' (deceased) to '1' (deceased)"
   ]
  },
  {
   "cell_type": "code",
   "execution_count": 1024,
   "id": "cc736588",
   "metadata": {},
   "outputs": [
    {
     "data": {
      "text/plain": [
       "0.0    141\n",
       "1.0     67\n",
       "Name: target2, dtype: int64"
      ]
     },
     "execution_count": 1024,
     "metadata": {},
     "output_type": "execute_result"
    }
   ],
   "source": [
    "data.target2.value_counts()"
   ]
  },
  {
   "cell_type": "code",
   "execution_count": 1025,
   "id": "d4209304",
   "metadata": {},
   "outputs": [],
   "source": [
    "# subject weapon: 'unarmed' should be the reference (does it increase the possibility to end up dead, if subject carries a weapon?)\n",
    "data['subject_weapon'] = np.where(data['subject_weapon'] == 'Unarmed', 'A_Unarmed', data['subject_weapon'])\n",
    "# subject_race: 'white' should be the reference (does racism plays a role?)\n",
    "data['subject_race'] = np.where(data['subject_race'] == 'White', 'AA_White', data['subject_race'])\n",
    "# season: 'spring' should be the reference (does heat in summer or possible depressiong weather in winter contribute to outcome?)\n",
    "data['season'] = np.where(data['season'] == 'spring', 'AA_spring', data['season'])\n",
    "# officer count: 'alone' should be the reference (in most cases, officers are alone)\n",
    "data['officer_count_cat'] = np.where(data['officer_count_cat'] == 'alone', '1_alone', data['officer_count_cat'])"
   ]
  },
  {
   "cell_type": "code",
   "execution_count": 1026,
   "id": "4c772130",
   "metadata": {},
   "outputs": [],
   "source": [
    "# X-y split\n",
    "X = data[['subject_weapon', 'subject_race', 'season', 'officer_count_cat']]\n",
    "y = data['target2']"
   ]
  },
  {
   "cell_type": "code",
   "execution_count": 1027,
   "id": "549af9b8",
   "metadata": {},
   "outputs": [
    {
     "data": {
      "text/plain": [
       "0.0    141\n",
       "1.0     67\n",
       "Name: target2, dtype: int64"
      ]
     },
     "execution_count": 1027,
     "metadata": {},
     "output_type": "execute_result"
    }
   ],
   "source": [
    "y.value_counts()"
   ]
  },
  {
   "cell_type": "code",
   "execution_count": 1028,
   "id": "ab0b1196",
   "metadata": {},
   "outputs": [
    {
     "data": {
      "text/plain": [
       "0.0    111\n",
       "1.0     67\n",
       "Name: target2, dtype: int64"
      ]
     },
     "execution_count": 1028,
     "metadata": {},
     "output_type": "execute_result"
    }
   ],
   "source": [
    "# Undersampling\n",
    "rus = RandomUnderSampler(sampling_strategy = {0.0: 111, 1.0: 67}, random_state = 10)\n",
    "X, y = rus.fit_resample(X,y)\n",
    "y.value_counts()"
   ]
  },
  {
   "cell_type": "code",
   "execution_count": 1029,
   "id": "d0f9287d",
   "metadata": {},
   "outputs": [
    {
     "data": {
      "text/plain": [
       "0.0    111\n",
       "1.0     97\n",
       "Name: target2, dtype: int64"
      ]
     },
     "execution_count": 1029,
     "metadata": {},
     "output_type": "execute_result"
    }
   ],
   "source": [
    "# Oversampling\n",
    "ros = RandomOverSampler(sampling_strategy = {0.0: 111, 1.0: 97}, random_state = 42)\n",
    "X, y = ros.fit_resample(X, y)\n",
    "y.value_counts()"
   ]
  },
  {
   "cell_type": "code",
   "execution_count": 1030,
   "id": "f81863e5",
   "metadata": {},
   "outputs": [],
   "source": [
    "# Encode features with OneHotEncoder\n",
    "encoder = OneHotEncoder(handle_unknown = 'error', drop = 'first').fit(X)\n",
    "X = encoder.transform(X).toarray()"
   ]
  },
  {
   "cell_type": "code",
   "execution_count": 1031,
   "id": "869dde88",
   "metadata": {},
   "outputs": [
    {
     "data": {
      "text/plain": [
       "[array(['A_Unarmed', 'Handgun', 'Knife', 'Shotgun/Rifle', 'Toy/Air gun',\n",
       "        'Vehicle', 'other'], dtype=object),\n",
       " array(['AA_White', 'Asian', 'Black', 'Latin'], dtype=object),\n",
       " array(['AA_spring', 'autumn', 'summer', 'winter'], dtype=object),\n",
       " array(['1_alone', '2 to 3', 'more than 3'], dtype=object)]"
      ]
     },
     "execution_count": 1031,
     "metadata": {},
     "output_type": "execute_result"
    }
   ],
   "source": [
    "encoder.categories_"
   ]
  },
  {
   "cell_type": "code",
   "execution_count": 1032,
   "id": "6c9fdfdb",
   "metadata": {},
   "outputs": [],
   "source": [
    "# Build model Logistic regression\n",
    "LogReg = LogisticRegression(class_weight='balanced')\n",
    "LogReg.fit(X, y)\n",
    "y_predict = LogReg.predict(X)"
   ]
  },
  {
   "cell_type": "code",
   "execution_count": 1033,
   "id": "123ebba7",
   "metadata": {},
   "outputs": [
    {
     "name": "stdout",
     "output_type": "stream",
     "text": [
      "[0.65714286 0.68571429 0.65714286 0.6        0.61764706 0.61764706]\n",
      "0.64 accuracy with a standard deviation of 0.03\n"
     ]
    }
   ],
   "source": [
    "# cross validation on accuracy score\n",
    "scores = cross_val_score(LogReg, X, y, cv=6)\n",
    "print(scores)\n",
    "print(\"%0.2f accuracy with a standard deviation of %0.2f\" % (scores.mean(), scores.std()))"
   ]
  },
  {
   "cell_type": "code",
   "execution_count": 1034,
   "id": "61dc2db6",
   "metadata": {},
   "outputs": [
    {
     "name": "stdout",
     "output_type": "stream",
     "text": [
      "              precision    recall  f1-score   support\n",
      "\n",
      "         0.0       0.71      0.65      0.68       111\n",
      "         1.0       0.64      0.70      0.67        97\n",
      "\n",
      "    accuracy                           0.67       208\n",
      "   macro avg       0.67      0.67      0.67       208\n",
      "weighted avg       0.68      0.67      0.67       208\n",
      "\n"
     ]
    }
   ],
   "source": [
    "# recall and precision\n",
    "print(classification_report(y, y_predict))"
   ]
  },
  {
   "cell_type": "code",
   "execution_count": 1035,
   "id": "6c96b204",
   "metadata": {},
   "outputs": [
    {
     "name": "stderr",
     "output_type": "stream",
     "text": [
      "C:\\Users\\Anne_2\\anaconda3\\lib\\site-packages\\sklearn\\utils\\deprecation.py:87: FutureWarning: Function plot_confusion_matrix is deprecated; Function `plot_confusion_matrix` is deprecated in 1.0 and will be removed in 1.2. Use one of the class methods: ConfusionMatrixDisplay.from_predictions or ConfusionMatrixDisplay.from_estimator.\n",
      "  warnings.warn(msg, category=FutureWarning)\n"
     ]
    },
    {
     "data": {
      "image/png": "[encoded data removed]",
      "text/plain": [
       "<Figure size 432x288 with 2 Axes>"
      ]
     },
     "metadata": {
      "needs_background": "light"
     },
     "output_type": "display_data"
    }
   ],
   "source": [
    "# plot confusion matrix\n",
    "plot_confusion_matrix(LogReg, X, y)\n",
    "plt.show()"
   ]
  },
  {
   "cell_type": "code",
   "execution_count": 1036,
   "id": "22ab9c5f",
   "metadata": {},
   "outputs": [
    {
     "data": {
      "text/plain": [
       "array([[ 0.00370426,  0.06510914,  0.47341541,  0.01224238, -1.3313536 ,\n",
       "         1.07052946, -0.68340441, -0.4969411 , -1.01695865, -0.28161841,\n",
       "         0.06080381, -0.47115981,  0.28522126,  1.13255017]])"
      ]
     },
     "execution_count": 1036,
     "metadata": {},
     "output_type": "execute_result"
    }
   ],
   "source": [
    "# checking the coefficients\n",
    "LogReg.coef_"
   ]
  },
  {
   "cell_type": "code",
   "execution_count": 1037,
   "id": "804ba8fe",
   "metadata": {},
   "outputs": [],
   "source": [
    "# defining row names to view coefficients in dataframe for better interpretation\n",
    "row_names = ['Handgun', 'Knife', 'Shotgun/Rifle', 'Toy/Air gun',\n",
    "        'Vehicle', 'other', 'Asian', 'Black', 'Latin', 'autumn', 'summer', 'winter', '2 to 3', 'more than 3']"
   ]
  },
  {
   "cell_type": "code",
   "execution_count": 1038,
   "id": "f60f7ad1",
   "metadata": {},
   "outputs": [
    {
     "data": {
      "text/html": [
       "<div>\n",
       "<style scoped>\n",
       "    .dataframe tbody tr th:only-of-type {\n",
       "        vertical-align: middle;\n",
       "    }\n",
       "\n",
       "    .dataframe tbody tr th {\n",
       "        vertical-align: top;\n",
       "    }\n",
       "\n",
       "    .dataframe thead th {\n",
       "        text-align: right;\n",
       "    }\n",
       "</style>\n",
       "<table border=\"1\" class=\"dataframe\">\n",
       "  <thead>\n",
       "    <tr style=\"text-align: right;\">\n",
       "      <th></th>\n",
       "      <th>Deceased</th>\n",
       "    </tr>\n",
       "  </thead>\n",
       "  <tbody>\n",
       "    <tr>\n",
       "      <th>Handgun</th>\n",
       "      <td>0.003704</td>\n",
       "    </tr>\n",
       "    <tr>\n",
       "      <th>Knife</th>\n",
       "      <td>0.065109</td>\n",
       "    </tr>\n",
       "    <tr>\n",
       "      <th>Shotgun/Rifle</th>\n",
       "      <td>0.473415</td>\n",
       "    </tr>\n",
       "    <tr>\n",
       "      <th>Toy/Air gun</th>\n",
       "      <td>0.012242</td>\n",
       "    </tr>\n",
       "    <tr>\n",
       "      <th>Vehicle</th>\n",
       "      <td>-1.331354</td>\n",
       "    </tr>\n",
       "    <tr>\n",
       "      <th>other</th>\n",
       "      <td>1.070529</td>\n",
       "    </tr>\n",
       "    <tr>\n",
       "      <th>Asian</th>\n",
       "      <td>-0.683404</td>\n",
       "    </tr>\n",
       "    <tr>\n",
       "      <th>Black</th>\n",
       "      <td>-0.496941</td>\n",
       "    </tr>\n",
       "    <tr>\n",
       "      <th>Latin</th>\n",
       "      <td>-1.016959</td>\n",
       "    </tr>\n",
       "    <tr>\n",
       "      <th>autumn</th>\n",
       "      <td>-0.281618</td>\n",
       "    </tr>\n",
       "    <tr>\n",
       "      <th>summer</th>\n",
       "      <td>0.060804</td>\n",
       "    </tr>\n",
       "    <tr>\n",
       "      <th>winter</th>\n",
       "      <td>-0.471160</td>\n",
       "    </tr>\n",
       "    <tr>\n",
       "      <th>2 to 3</th>\n",
       "      <td>0.285221</td>\n",
       "    </tr>\n",
       "    <tr>\n",
       "      <th>more than 3</th>\n",
       "      <td>1.132550</td>\n",
       "    </tr>\n",
       "  </tbody>\n",
       "</table>\n",
       "</div>"
      ],
      "text/plain": [
       "               Deceased\n",
       "Handgun        0.003704\n",
       "Knife          0.065109\n",
       "Shotgun/Rifle  0.473415\n",
       "Toy/Air gun    0.012242\n",
       "Vehicle       -1.331354\n",
       "other          1.070529\n",
       "Asian         -0.683404\n",
       "Black         -0.496941\n",
       "Latin         -1.016959\n",
       "autumn        -0.281618\n",
       "summer         0.060804\n",
       "winter        -0.471160\n",
       "2 to 3         0.285221\n",
       "more than 3    1.132550"
      ]
     },
     "execution_count": 1038,
     "metadata": {},
     "output_type": "execute_result"
    }
   ],
   "source": [
    "# view coefficients as dataframe\n",
    "coefficients = pd.DataFrame({'Deceased': LogReg.coef_[0]}, index = row_names)\n",
    "coefficients"
   ]
  },
  {
   "cell_type": "markdown",
   "id": "42b2f748",
   "metadata": {},
   "source": [
    "# Further simplifying model, recoding all features to binary features"
   ]
  },
  {
   "cell_type": "code",
   "execution_count": 1039,
   "id": "5501426e",
   "metadata": {},
   "outputs": [],
   "source": [
    "# subject weapon: 'unarmed' and 'vehicle' are considered 'no weapon'\n",
    "data['subject_weapon_yn'] = np.where(data['subject_weapon'] == 'Vehicle', 'A_Unarmed', 'weapon')\n",
    "# subject_race: 'white' should be the reference (does racism plays a role?)\n",
    "data['subject_colored_yn'] = np.where(data['subject_race'] == 'AA_White', 'AA_White', 'Colored')\n",
    "# officer count: 'alone' should be the reference (in most cases, officers are alone)\n",
    "data['officer_alone_yn'] = np.where(data['officer_count_cat'] == '1_alone', '1_alone', '2_or_more')"
   ]
  },
  {
   "cell_type": "code",
   "execution_count": 1110,
   "id": "195882a7",
   "metadata": {},
   "outputs": [],
   "source": [
    "# X-y split\n",
    "X = data[['subject_weapon_yn', 'subject_colored_yn', 'season', 'officer_alone_yn']]\n",
    "y = data['target2']"
   ]
  },
  {
   "cell_type": "code",
   "execution_count": 1111,
   "id": "428e530f",
   "metadata": {},
   "outputs": [
    {
     "data": {
      "text/plain": [
       "0.0    141\n",
       "1.0     67\n",
       "Name: target2, dtype: int64"
      ]
     },
     "execution_count": 1111,
     "metadata": {},
     "output_type": "execute_result"
    }
   ],
   "source": [
    "y.value_counts()"
   ]
  },
  {
   "cell_type": "code",
   "execution_count": 1112,
   "id": "405f69e5",
   "metadata": {},
   "outputs": [
    {
     "data": {
      "text/plain": [
       "0.0    111\n",
       "1.0     67\n",
       "Name: target2, dtype: int64"
      ]
     },
     "execution_count": 1112,
     "metadata": {},
     "output_type": "execute_result"
    }
   ],
   "source": [
    "# Undersampling\n",
    "rus = RandomUnderSampler(sampling_strategy = {0.0: 111, 1.0: 67}, random_state = 10)\n",
    "X, y = rus.fit_resample(X,y)\n",
    "y.value_counts()"
   ]
  },
  {
   "cell_type": "code",
   "execution_count": 1113,
   "id": "67e269b5",
   "metadata": {},
   "outputs": [
    {
     "data": {
      "text/plain": [
       "0.0    111\n",
       "1.0     97\n",
       "Name: target2, dtype: int64"
      ]
     },
     "execution_count": 1113,
     "metadata": {},
     "output_type": "execute_result"
    }
   ],
   "source": [
    "# Oversampling\n",
    "ros = RandomOverSampler(sampling_strategy = {0.0: 111, 1.0: 97}, random_state = 42)\n",
    "X, y = ros.fit_resample(X, y)\n",
    "y.value_counts()"
   ]
  },
  {
   "cell_type": "code",
   "execution_count": 1114,
   "id": "0fae0504",
   "metadata": {},
   "outputs": [],
   "source": [
    "# Encode features with OneHotEncoder\n",
    "encoder = OneHotEncoder(handle_unknown = 'error', drop = 'first').fit(X)\n",
    "X = encoder.transform(X).toarray()"
   ]
  },
  {
   "cell_type": "code",
   "execution_count": 1115,
   "id": "3e7e1678",
   "metadata": {},
   "outputs": [
    {
     "data": {
      "text/plain": [
       "[array(['A_Unarmed', 'weapon'], dtype=object),\n",
       " array(['AA_White', 'Colored'], dtype=object),\n",
       " array(['AA_spring', 'autumn', 'summer', 'winter'], dtype=object),\n",
       " array(['1_alone', '2_or_more'], dtype=object)]"
      ]
     },
     "execution_count": 1115,
     "metadata": {},
     "output_type": "execute_result"
    }
   ],
   "source": [
    "encoder.categories_"
   ]
  },
  {
   "cell_type": "code",
   "execution_count": 1116,
   "id": "588e7e51",
   "metadata": {},
   "outputs": [],
   "source": [
    "# Build model Logistic regression\n",
    "LogReg = LogisticRegression(class_weight='balanced')\n",
    "LogReg.fit(X, y)\n",
    "y_predict = LogReg.predict(X)"
   ]
  },
  {
   "cell_type": "code",
   "execution_count": 1117,
   "id": "eb158d24",
   "metadata": {},
   "outputs": [
    {
     "name": "stdout",
     "output_type": "stream",
     "text": [
      "[0.6        0.68571429 0.62857143 0.6        0.61764706 0.52941176]\n",
      "0.61 accuracy with a standard deviation of 0.05\n"
     ]
    }
   ],
   "source": [
    "# cross validation on accuracy score\n",
    "scores = cross_val_score(LogReg, X, y, cv=6)\n",
    "print(scores)\n",
    "print(\"%0.2f accuracy with a standard deviation of %0.2f\" % (scores.mean(), scores.std()))"
   ]
  },
  {
   "cell_type": "code",
   "execution_count": 1118,
   "id": "e6b9703d",
   "metadata": {},
   "outputs": [
    {
     "name": "stdout",
     "output_type": "stream",
     "text": [
      "              precision    recall  f1-score   support\n",
      "\n",
      "         0.0       0.71      0.61      0.66       111\n",
      "         1.0       0.62      0.71      0.66        97\n",
      "\n",
      "    accuracy                           0.66       208\n",
      "   macro avg       0.66      0.66      0.66       208\n",
      "weighted avg       0.67      0.66      0.66       208\n",
      "\n"
     ]
    }
   ],
   "source": [
    "# precision and recall\n",
    "print(classification_report(y, y_predict))"
   ]
  },
  {
   "cell_type": "code",
   "execution_count": 1119,
   "id": "4258f1db",
   "metadata": {},
   "outputs": [
    {
     "name": "stderr",
     "output_type": "stream",
     "text": [
      "C:\\Users\\Anne_2\\anaconda3\\lib\\site-packages\\sklearn\\utils\\deprecation.py:87: FutureWarning: Function plot_confusion_matrix is deprecated; Function `plot_confusion_matrix` is deprecated in 1.0 and will be removed in 1.2. Use one of the class methods: ConfusionMatrixDisplay.from_predictions or ConfusionMatrixDisplay.from_estimator.\n",
      "  warnings.warn(msg, category=FutureWarning)\n"
     ]
    },
    {
     "data": {
      "image/png": "[encoded data removed]",
      "text/plain": [
       "<Figure size 432x288 with 2 Axes>"
      ]
     },
     "metadata": {
      "needs_background": "light"
     },
     "output_type": "display_data"
    }
   ],
   "source": [
    "# plot confusion matrix\n",
    "plot_confusion_matrix(LogReg, X, y)\n",
    "plt.show()"
   ]
  },
  {
   "cell_type": "code",
   "execution_count": 1120,
   "id": "d504b2f6",
   "metadata": {},
   "outputs": [
    {
     "data": {
      "text/plain": [
       "array([[ 1.46256193, -0.88575786, -0.25054629,  0.10565317, -0.40551061,\n",
       "         0.58225029]])"
      ]
     },
     "execution_count": 1120,
     "metadata": {},
     "output_type": "execute_result"
    }
   ],
   "source": [
    "# checking the coefficients\n",
    "LogReg.coef_"
   ]
  },
  {
   "cell_type": "code",
   "execution_count": 1121,
   "id": "50a1d9a1",
   "metadata": {},
   "outputs": [],
   "source": [
    "# defining row names to view coefficients in dataframe for better interpretation\n",
    "row_names = ['weapon', 'colored', 'autumn', 'summer', 'winter', '2_or_more']"
   ]
  },
  {
   "cell_type": "code",
   "execution_count": 1122,
   "id": "934bcfe8",
   "metadata": {},
   "outputs": [
    {
     "data": {
      "text/html": [
       "<div>\n",
       "<style scoped>\n",
       "    .dataframe tbody tr th:only-of-type {\n",
       "        vertical-align: middle;\n",
       "    }\n",
       "\n",
       "    .dataframe tbody tr th {\n",
       "        vertical-align: top;\n",
       "    }\n",
       "\n",
       "    .dataframe thead th {\n",
       "        text-align: right;\n",
       "    }\n",
       "</style>\n",
       "<table border=\"1\" class=\"dataframe\">\n",
       "  <thead>\n",
       "    <tr style=\"text-align: right;\">\n",
       "      <th></th>\n",
       "      <th>Deceased</th>\n",
       "    </tr>\n",
       "  </thead>\n",
       "  <tbody>\n",
       "    <tr>\n",
       "      <th>weapon</th>\n",
       "      <td>1.462562</td>\n",
       "    </tr>\n",
       "    <tr>\n",
       "      <th>colored</th>\n",
       "      <td>-0.885758</td>\n",
       "    </tr>\n",
       "    <tr>\n",
       "      <th>autumn</th>\n",
       "      <td>-0.250546</td>\n",
       "    </tr>\n",
       "    <tr>\n",
       "      <th>summer</th>\n",
       "      <td>0.105653</td>\n",
       "    </tr>\n",
       "    <tr>\n",
       "      <th>winter</th>\n",
       "      <td>-0.405511</td>\n",
       "    </tr>\n",
       "    <tr>\n",
       "      <th>2_or_more</th>\n",
       "      <td>0.582250</td>\n",
       "    </tr>\n",
       "  </tbody>\n",
       "</table>\n",
       "</div>"
      ],
      "text/plain": [
       "           Deceased\n",
       "weapon     1.462562\n",
       "colored   -0.885758\n",
       "autumn    -0.250546\n",
       "summer     0.105653\n",
       "winter    -0.405511\n",
       "2_or_more  0.582250"
      ]
     },
     "execution_count": 1122,
     "metadata": {},
     "output_type": "execute_result"
    }
   ],
   "source": [
    "# view coefficients as dataframe\n",
    "coefficients = pd.DataFrame({'Deceased': LogReg.coef_[0]}, index = row_names)\n",
    "coefficients"
   ]
  },
  {
   "cell_type": "markdown",
   "id": "6f1ce0cf",
   "metadata": {},
   "source": [
    "### 1. If the subject is carrying a wepaon, the probability of a fatal shooting is increased, 2. white subjects have a higher chance to die in a shooting, than colored subjects, 3. in colder season, the probability of a subject dying is reduced compared to spring, while summer the probability is increased, 4. If more officers are involved, probability of a fatal shooting is higher than if there is only 1 officer involved."
   ]
  },
  {
   "cell_type": "markdown",
   "id": "5c81da65",
   "metadata": {},
   "source": [
    "# Running model again with train/test split"
   ]
  },
  {
   "cell_type": "code",
   "execution_count": 934,
   "id": "ae8800e6",
   "metadata": {},
   "outputs": [],
   "source": [
    "# X-y split\n",
    "X = data[['subject_weapon_yn', 'subject_colored_yn', 'season', 'officer_alone_yn']]\n",
    "y = data['target2']"
   ]
  },
  {
   "cell_type": "code",
   "execution_count": 935,
   "id": "f5bf0f83",
   "metadata": {},
   "outputs": [],
   "source": [
    "# train-test-split\n",
    "X_train, X_test, y_train, y_test = train_test_split(X, y, test_size = 0.25, random_state = 100, stratify = y)"
   ]
  },
  {
   "cell_type": "code",
   "execution_count": 936,
   "id": "0a51cc94",
   "metadata": {},
   "outputs": [
    {
     "data": {
      "text/plain": [
       "0.0    106\n",
       "1.0     50\n",
       "Name: target2, dtype: int64"
      ]
     },
     "execution_count": 936,
     "metadata": {},
     "output_type": "execute_result"
    }
   ],
   "source": [
    "# Check samples\n",
    "y_train.value_counts()"
   ]
  },
  {
   "cell_type": "code",
   "execution_count": 937,
   "id": "6fde949c",
   "metadata": {},
   "outputs": [
    {
     "data": {
      "text/plain": [
       "0.0    90\n",
       "1.0    50\n",
       "Name: target2, dtype: int64"
      ]
     },
     "execution_count": 937,
     "metadata": {},
     "output_type": "execute_result"
    }
   ],
   "source": [
    "# Undersampling\n",
    "rus = RandomUnderSampler(sampling_strategy = {0.0: 90, 1.0: 50}, random_state = 10)\n",
    "X_train, y_train = rus.fit_resample(X_train,y_train)\n",
    "y_train.value_counts()"
   ]
  },
  {
   "cell_type": "code",
   "execution_count": 938,
   "id": "e4c565b6",
   "metadata": {},
   "outputs": [
    {
     "data": {
      "text/plain": [
       "0.0    90\n",
       "1.0    66\n",
       "Name: target2, dtype: int64"
      ]
     },
     "execution_count": 938,
     "metadata": {},
     "output_type": "execute_result"
    }
   ],
   "source": [
    "# Oversampling\n",
    "ros = RandomOverSampler(sampling_strategy = {0.0: 90, 1.0: 66}, random_state = 42)\n",
    "X_train, y_train = ros.fit_resample(X_train, y_train)\n",
    "y_train.value_counts()"
   ]
  },
  {
   "cell_type": "code",
   "execution_count": 939,
   "id": "e2d9a1ae",
   "metadata": {},
   "outputs": [],
   "source": [
    "# Encode features with OneHotEncoder\n",
    "encoder = OneHotEncoder(handle_unknown = 'error', drop = 'first').fit(X_train)\n",
    "X_train = encoder.transform(X_train).toarray()\n",
    "X_test = encoder.transform(X_test).toarray()"
   ]
  },
  {
   "cell_type": "code",
   "execution_count": 940,
   "id": "8cca7012",
   "metadata": {},
   "outputs": [
    {
     "data": {
      "text/plain": [
       "[array(['A_Unarmed', 'weapon'], dtype=object),\n",
       " array(['AA_White', 'Colored'], dtype=object),\n",
       " array(['AA_spring', 'autumn', 'summer', 'winter'], dtype=object),\n",
       " array(['1_alone', '2_or_more'], dtype=object)]"
      ]
     },
     "execution_count": 940,
     "metadata": {},
     "output_type": "execute_result"
    }
   ],
   "source": [
    "encoder.categories_"
   ]
  },
  {
   "cell_type": "code",
   "execution_count": 941,
   "id": "cc2ca765",
   "metadata": {},
   "outputs": [],
   "source": [
    "# Build model Logistic regression\n",
    "LogReg = LogisticRegression(class_weight='balanced')\n",
    "LogReg.fit(X_train, y_train)\n",
    "y_train_predict = LogReg.predict(X_train)\n",
    "y_test_predict = LogReg.predict(X_test)"
   ]
  },
  {
   "cell_type": "code",
   "execution_count": 942,
   "id": "712d0bc5",
   "metadata": {},
   "outputs": [
    {
     "name": "stdout",
     "output_type": "stream",
     "text": [
      "              precision    recall  f1-score   support\n",
      "\n",
      "         0.0       0.82      0.70      0.75        90\n",
      "         1.0       0.66      0.79      0.72        66\n",
      "\n",
      "    accuracy                           0.74       156\n",
      "   macro avg       0.74      0.74      0.74       156\n",
      "weighted avg       0.75      0.74      0.74       156\n",
      "\n",
      "              precision    recall  f1-score   support\n",
      "\n",
      "         0.0       0.72      0.51      0.60        35\n",
      "         1.0       0.37      0.59      0.45        17\n",
      "\n",
      "    accuracy                           0.54        52\n",
      "   macro avg       0.55      0.55      0.53        52\n",
      "weighted avg       0.61      0.54      0.55        52\n",
      "\n"
     ]
    }
   ],
   "source": [
    "# Model validation\n",
    "print(classification_report(y_train, y_train_predict))\n",
    "print(classification_report(y_test, y_test_predict))"
   ]
  },
  {
   "cell_type": "code",
   "execution_count": 943,
   "id": "e9126aa0",
   "metadata": {},
   "outputs": [
    {
     "name": "stderr",
     "output_type": "stream",
     "text": [
      "C:\\Users\\Anne_2\\anaconda3\\lib\\site-packages\\sklearn\\utils\\deprecation.py:87: FutureWarning: Function plot_confusion_matrix is deprecated; Function `plot_confusion_matrix` is deprecated in 1.0 and will be removed in 1.2. Use one of the class methods: ConfusionMatrixDisplay.from_predictions or ConfusionMatrixDisplay.from_estimator.\n",
      "  warnings.warn(msg, category=FutureWarning)\n",
      "C:\\Users\\Anne_2\\anaconda3\\lib\\site-packages\\sklearn\\utils\\deprecation.py:87: FutureWarning: Function plot_confusion_matrix is deprecated; Function `plot_confusion_matrix` is deprecated in 1.0 and will be removed in 1.2. Use one of the class methods: ConfusionMatrixDisplay.from_predictions or ConfusionMatrixDisplay.from_estimator.\n",
      "  warnings.warn(msg, category=FutureWarning)\n"
     ]
    },
    {
     "data": {
      "image/png": "[encoded data removed]",
      "text/plain": [
       "<Figure size 432x288 with 2 Axes>"
      ]
     },
     "metadata": {
      "needs_background": "light"
     },
     "output_type": "display_data"
    },
    {
     "data": {
      "image/png": "[encoded data removed]",
      "text/plain": [
       "<Figure size 432x288 with 2 Axes>"
      ]
     },
     "metadata": {
      "needs_background": "light"
     },
     "output_type": "display_data"
    }
   ],
   "source": [
    "# plot confusion matrix\n",
    "plot_confusion_matrix(LogReg, X_train, y_train)\n",
    "plot_confusion_matrix(LogReg, X_test, y_test)\n",
    "plt.show()"
   ]
  },
  {
   "cell_type": "code",
   "execution_count": 944,
   "id": "976a1b40",
   "metadata": {},
   "outputs": [
    {
     "data": {
      "text/plain": [
       "array([[ 1.42252779, -1.33643581, -0.11898926,  0.56645962, -0.21698816,\n",
       "         0.82228488]])"
      ]
     },
     "execution_count": 944,
     "metadata": {},
     "output_type": "execute_result"
    }
   ],
   "source": [
    "# checking the coefficients\n",
    "LogReg.coef_"
   ]
  },
  {
   "cell_type": "code",
   "execution_count": 945,
   "id": "eebc689e",
   "metadata": {},
   "outputs": [],
   "source": [
    "# defining row names to view coefficients in dataframe for better interpretation\n",
    "row_names = ['weapon', 'colored', 'autumn', 'summer', 'winter', '2_or_more']"
   ]
  },
  {
   "cell_type": "code",
   "execution_count": 946,
   "id": "c09bf7b6",
   "metadata": {},
   "outputs": [
    {
     "data": {
      "text/html": [
       "<div>\n",
       "<style scoped>\n",
       "    .dataframe tbody tr th:only-of-type {\n",
       "        vertical-align: middle;\n",
       "    }\n",
       "\n",
       "    .dataframe tbody tr th {\n",
       "        vertical-align: top;\n",
       "    }\n",
       "\n",
       "    .dataframe thead th {\n",
       "        text-align: right;\n",
       "    }\n",
       "</style>\n",
       "<table border=\"1\" class=\"dataframe\">\n",
       "  <thead>\n",
       "    <tr style=\"text-align: right;\">\n",
       "      <th></th>\n",
       "      <th>Deceased</th>\n",
       "    </tr>\n",
       "  </thead>\n",
       "  <tbody>\n",
       "    <tr>\n",
       "      <th>weapon</th>\n",
       "      <td>1.422528</td>\n",
       "    </tr>\n",
       "    <tr>\n",
       "      <th>colored</th>\n",
       "      <td>-1.336436</td>\n",
       "    </tr>\n",
       "    <tr>\n",
       "      <th>autumn</th>\n",
       "      <td>-0.118989</td>\n",
       "    </tr>\n",
       "    <tr>\n",
       "      <th>summer</th>\n",
       "      <td>0.566460</td>\n",
       "    </tr>\n",
       "    <tr>\n",
       "      <th>winter</th>\n",
       "      <td>-0.216988</td>\n",
       "    </tr>\n",
       "    <tr>\n",
       "      <th>2_or_more</th>\n",
       "      <td>0.822285</td>\n",
       "    </tr>\n",
       "  </tbody>\n",
       "</table>\n",
       "</div>"
      ],
      "text/plain": [
       "           Deceased\n",
       "weapon     1.422528\n",
       "colored   -1.336436\n",
       "autumn    -0.118989\n",
       "summer     0.566460\n",
       "winter    -0.216988\n",
       "2_or_more  0.822285"
      ]
     },
     "execution_count": 946,
     "metadata": {},
     "output_type": "execute_result"
    }
   ],
   "source": [
    "# view coefficients as dataframe\n",
    "coefficients = pd.DataFrame({'Deceased': LogReg.coef_[0]}, index = row_names)\n",
    "coefficients"
   ]
  },
  {
   "cell_type": "markdown",
   "id": "31396dfe",
   "metadata": {},
   "source": [
    "### Interpretation of Coeficcients is the same than without train/test split, but as before, model does not perform well on test data, due to low sample size (predictions for future data is not possible)."
   ]
  },
  {
   "cell_type": "code",
   "execution_count": null,
   "id": "60a80136",
   "metadata": {},
   "outputs": [],
   "source": []
  },
  {
   "cell_type": "code",
   "execution_count": 947,
   "id": "a93479e5",
   "metadata": {},
   "outputs": [],
   "source": [
    "# save the data with new categories for visualization\n",
    "data.to_csv('C:/Users/Anne_2/Documents/Ironhack/Classification_Dallas_Shootings/data/Dallas_for_visualization.csv', index=False)"
   ]
  }
 ],
 "metadata": {
  "kernelspec": {
   "display_name": "Python 3",
   "language": "python",
   "name": "python3"
  },
  "language_info": {
   "codemirror_mode": {
    "name": "ipython",
    "version": 3
   },
   "file_extension": ".py",
   "mimetype": "text/x-python",
   "name": "python",
   "nbconvert_exporter": "python",
   "pygments_lexer": "ipython3",
   "version": "3.8.8"
  }
 },
 "nbformat": 4,
 "nbformat_minor": 5
}
